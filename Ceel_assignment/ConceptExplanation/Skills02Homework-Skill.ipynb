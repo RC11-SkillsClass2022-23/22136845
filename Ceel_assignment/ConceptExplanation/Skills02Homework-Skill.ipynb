{
 "cells": [
  {
   "cell_type": "markdown",
   "id": "ab930fb2",
   "metadata": {},
   "source": [
    "# Lambda calculus\n",
    "\n",
    "The most obvious place where we encounter lambda expressions in Python is with their 'anonymous functions', so called because you do not have to name these functions. For example, the following is an anonymous function that doubles its input:"
   ]
  },
  {
   "cell_type": "code",
   "execution_count": 1,
   "id": "1d8653f6",
   "metadata": {
    "scrolled": false
   },
   "outputs": [
    {
     "data": {
      "text/plain": [
       "<function __main__.<lambda>(x)>"
      ]
     },
     "execution_count": 1,
     "metadata": {},
     "output_type": "execute_result"
    }
   ],
   "source": [
    "lambda x: x*2"
   ]
  },
  {
   "cell_type": "markdown",
   "id": "674e8225",
   "metadata": {},
   "source": [
    "The defining of the above function corresponds with the 'lambda abstraction rule' of lambda calculus. We have given this function no input, so we get no output either. Furthermore, since the function is anonymous, we cannot reference its name and invoke it later. Instead, we should immediately supply the lambda expression with some input:"
   ]
  },
  {
   "cell_type": "code",
   "execution_count": 2,
   "id": "ed8cebc9",
   "metadata": {},
   "outputs": [
    {
     "data": {
      "text/plain": [
       "12"
      ]
     },
     "execution_count": 2,
     "metadata": {},
     "output_type": "execute_result"
    }
   ],
   "source": [
    "(lambda x: x*2)(6)"
   ]
  },
  {
   "cell_type": "markdown",
   "id": "0fa9bb16",
   "metadata": {},
   "source": [
    "Python will then produce the output of this function applied to the input (corresponding to the 'application rule'). We do not need to limit ourselves to one parameter either, as this exponential growth formula shows:"
   ]
  },
  {
   "cell_type": "code",
   "execution_count": 3,
   "id": "0c03aa8d",
   "metadata": {},
   "outputs": [
    {
     "data": {
      "text/plain": [
       "54"
      ]
     },
     "execution_count": 3,
     "metadata": {},
     "output_type": "execute_result"
    }
   ],
   "source": [
    "(lambda x, g, t: x*g**t)(2,3,3)"
   ]
  },
  {
   "cell_type": "markdown",
   "id": "51e16998",
   "metadata": {},
   "source": [
    "we actually *can* assign a variable name to a lambda expression if we want, in which case it is just an alternative syntax for defining a function. The following two are identical functions:"
   ]
  },
  {
   "cell_type": "code",
   "execution_count": 4,
   "id": "267834b5",
   "metadata": {},
   "outputs": [
    {
     "data": {
      "text/plain": [
       "8"
      ]
     },
     "execution_count": 4,
     "metadata": {},
     "output_type": "execute_result"
    }
   ],
   "source": [
    "def double_a(x):\n",
    "    return x*2\n",
    "\n",
    "double_b = lambda x: x*2\n",
    "\n",
    "double_b(4)"
   ]
  },
  {
   "cell_type": "markdown",
   "id": "48976e54",
   "metadata": {},
   "source": [
    "In general, the 'normal' way is preferred. A great way to use lambda expressions is to have a regular function (that wants some argument *n*) **return** a lambda expression that involves *n*. Think of the regular function as a template for producing a family of lambda expressions depending on *n*\n",
    "\n",
    "### Exercise 1\n",
    "Define a function with at least 1 parameter that returns a lambda expression with also at least 1 parameter and uses the argument of the function. Show, with a few examples, what the function does for different inputs for the function (and the lambda expression)."
   ]
  },
  {
   "cell_type": "code",
   "execution_count": 5,
   "id": "e3f7f9b1",
   "metadata": {},
   "outputs": [
    {
     "data": {
      "text/plain": [
       "8"
      ]
     },
     "execution_count": 5,
     "metadata": {},
     "output_type": "execute_result"
    }
   ],
   "source": [
    "def math(n, m):\n",
    "    return (lambda x, y: x ** y)(n, m)\n",
    "\n",
    "math(2, 3)"
   ]
  },
  {
   "cell_type": "markdown",
   "id": "8c41f3c8",
   "metadata": {},
   "source": [
    "Another frequent use is for manipulating iterable data objects (like lists, dataframes, dictionaries, etc), such as with the .sort() method, or the map() and filter() functions. The map function applies an operation to every element of the data  object. For both map() and filter(), you need to wrap them with list() to actually return the mapped or filtered list; so it takes the form of *list(filter(lambda x: ..., list1))*.\n",
    "\n",
    "### Exercise 2\n",
    "Use lambda expressions and the above-mentioned functions to manipulate the data (a list of dictionaries) below as follows:\n",
    "* sort the data by country\n",
    "* return a filtered list that has only those entries whose 'name' starts with an A or a B\n",
    "* return a filtered list that has only those entries whose 'number' is not divisible by 2 or 3\n",
    "* return a list with the same values as the original, except that each 'number' entry has been doubled\n"
   ]
  },
  {
   "cell_type": "code",
   "execution_count": 6,
   "id": "7d1b8751",
   "metadata": {},
   "outputs": [],
   "source": [
    "data = [{'country': \"Ukraine\",'number': \"3\",'name': \"Derek Bolton\"},{'country': \"United States\",'number': \"3\",'name': \"Britanney Durham\"},{'country': \"China\",'number': \"7\",'name': \"Rachel Dickson\"},{'country': \"India\",'number': \"4\",'name': \"Oren Dominguez\"},{'country': \"Norway\",'number': \"5\",'name': \"Keane Dean\"},{'country': \"New Zealand\",'number': \"8\",'name': \"Tarik Coleman\"},{'country': \"South Africa\",'number': \"3\",'name': \"Uriel Greene\"},{'country': \"China\",'number': \"6\",'name': \"Minerva Shields\"},{'country': \"Norway\",'number': \"7\",'name': \"Robin Butler\"},{'country': \"Germany\",'number': \"7\",'name': \"Stacey Nixon\"},{'country': \"South Africa\",'number': \"4\",'name': \"Glenna Clark\"},{'country': \"Australia\",'number': \"7\",'name': \"Adena Smith\"},{'country': \"Italy\",'number': \"2\",'name': \"Ronan Ellis\"},{'country': \"Chile\",'number': \"1\",'name': \"Ignatius Guy\"},{'country': \"Belgium\",'number': \"8\",'name': \"Barclay Lindsey\"},{'country': \"Peru\",'number': \"2\",'name': \"Fuller Burris\"},{'country': \"Ukraine\",'number': \"2\",'name': \"Kylan Witt\"},{'country': \"United States\",'number': \"1\",'name': \"Kitra Willis\"},{'country': \"Austria\",'number': \"6\",'name': \"Indigo Dillard\"},{'country': \"Chile\",'number': \"3\",'name': \"Benedict Powell\"},{'country': \"Russian Federation\",'number': \"9\",'name': \"Duncan Ware\"},{'country': \"Peru\",'number': \"7\",'name': \"Abra Lewis\"},{'country': \"China\",'number': \"5\",'name': \"Callie Cole\"},{'country': \"United States\",'number': \"0\",'name': \"Cedric Gates\"},{'country': \"Ukraine\",'number': \"7\",'name': \"Malcolm Cox\"},{'country': \"Brazil\",'number': \"6\",'name': \"Connor Potts\"},{'country': \"Sweden\",'number': \"7\",'name': \"Lyle Nguyen\"},{'country': \"United States\",'number': \"3\",'name': \"Rudyard Barrett\"},{'country': \"Costa Rica\",'number': \"2\",'name': \"Judah Brock\"},{'country': \"South Korea\",'number': \"2\",'name': \"Lucius Snider\"},{'country': \"China\",'number': \"1\",'name': \"Cassady Mcdaniel\"},{'country': \"Singapore\",'number': \"2\",'name': \"Allegra Baird\"},{'country': \"Philippines\",'number': \"4\",'name': \"Omar Burgess\"},{'country': \"Turkey\",'number': \"7\",'name': \"Kenyon Rosa\"},{'country': \"Poland\",'number': \"6\",'name': \"Yen Sargent\"},{'country': \"China\",'number': \"3\",'name': \"Rashad Grimes\"},{'country': \"Spain\",'number': \"7\",'name': \"Tamekah Gutierrez\"},{'country': \"Ukraine\",'number': \"3\",'name': \"Liberty Mathis\"},{'country': \"Mexico\",'number': \"3\",'name': \"Rylee Sharpe\"},{'country': \"Mexico\",'number': \"3\",'name': \"Brynn Hinton\"},{'country': \"Sweden\",'number': \"2\",'name': \"Quinn Berg\"},{'country': \"Philippines\",'number': \"9\",'name': \"Simone Tanner\"},{'country': \"Ireland\",'number': \"2\",'name': \"Simon Giles\"},{'country': \"United Kingdom\",'number': \"10\",'name': \"Zenia Coffey\"},{'country': \"Mexico\",'number': \"2\",'name': \"Yael Glass\"},{'country': \"Colombia\",'number': \"5\",'name': \"Inga Russell\"},{'country': \"United Kingdom\",'number': \"1\",'name': \"Brendan Pearson\"},{'country': \"Austria\",'number': \"3\",'name': \"Shafira Parks\"},{'country': \"India\",'number': \"9\",'name': \"Dante Charles\"},{'country': \"Sweden\",'number': \"8\",'name': \"Kylee Good\"},{'country': \"Canada\",'number': \"1\",'name': \"September Bryan\"},{'country': \"Costa Rica\",'number': \"5\",'name': \"Hakeem Flowers\"},{'country': \"Peru\",'number': \"0\",'name': \"Ross Moss\"},{'country': \"Spain\",'number': \"8\",'name': \"Bo Hardy\"},{'country': \"Austria\",'number': \"2\",'name': \"Davis Cardenas\"},{'country': \"Ireland\",'number': \"2\",'name': \"Lane Chandler\"},{'country': \"Ukraine\",'number': \"3\",'name': \"Mohammad Holder\"},{'country': \"Vietnam\",'number': \"8\",'name': \"Jonas Bryan\"},{'country': \"Costa Rica\",'number': \"0\",'name': \"Eve Rivas\"},{'country': \"Australia\",'number': \"4\",'name': \"Elton Collins\"},{'country': \"Norway\",'number': \"8\",'name': \"Cain Fields\"},{'country': \"Vietnam\",'number': \"0\",'name': \"Iliana Daniels\"},{'country': \"Mexico\",'number': \"7\",'name': \"Rajah Robles\"},{'country': \"Australia\",'number': \"3\",'name': \"Charity Conner\"},{'country': \"Chile\",'number': \"5\",'name': \"Kay Parsons\"},{'country': \"Ireland\",'number': \"4\",'name': \"Rachel Howell\"},{'country': \"Singapore\",'number': \"3\",'name': \"Walter Forbes\"},{'country': \"Colombia\",'number': \"1\",'name': \"Gray Hayden\"},{'country': \"Netherlands\",'number': \"9\",'name': \"Ivana Compton\"},{'country': \"South Korea\",'number': \"8\",'name': \"Jamal Kelly\"},{'country': \"Pakistan\",'number': \"0\",'name': \"Robert Cunningham\"},{'country': \"Spain\",'number': \"4\",'name': \"Ignatius Newman\"},{'country': \"Canada\",'number': \"8\",'name': \"Gisela Glenn\"},{'country': \"Vietnam\",'number': \"1\",'name': \"Eliana Nicholson\"},{'country': \"Ukraine\",'number': \"4\",'name': \"Christen James\"},{'country': \"France\",'number': \"4\",'name': \"Devin Spears\"},{'country': \"Costa Rica\",'number': \"3\",'name': \"Phelan Hodges\"},{'country': \"Chile\",'number': \"4\",'name': \"Stewart Coffey\"},{'country': \"Singapore\",'number': \"6\",'name': \"Kasper Justice\"},{'country': \"Italy\",'number': \"7\",'name': \"Xanthus Wilkerson\"},{'country': \"Italy\",'number': \"6\",'name': \"Debra Melendez\"},{'country': \"Germany\",'number': \"6\",'name': \"Galvin Morrison\"},{'country': \"Norway\",'number': \"10\",'name': \"Britanney Daniels\"},{'country': \"Italy\",'number': \"8\",'name': \"Steel Cantu\"},{'country': \"Mexico\",'number': \"7\",'name': \"Graham Ewing\"},{'country': \"China\",'number': \"3\",'name': \"Maia Dunn\"},{'country': \"Australia\",'number': \"3\",'name': \"Violet Thornton\"},{'country': \"Canada\",'number': \"5\",'name': \"Cleo Cardenas\"},{'country': \"United States\",'number': \"8\",'name': \"Castor Bowen\"},{'country': \"Australia\",'number': \"8\",'name': \"Wyatt Carey\"},{'country': \"Philippines\",'number': \"5\",'name': \"Paul Padilla\"},{'country': \"Costa Rica\",'number': \"8\",'name': \"Germane Welch\"},{'country': \"South Korea\",'number': \"4\",'name': \"Zephr Deleon\"},{'country': \"Russian Federation\",'number': \"9\",'name': \"Lionel Armstrong\"},{'country': \"Brazil\",'number': \"6\",'name': \"Eleanor Solomon\"},{'country': \"Nigeria\",'number': \"7\",'name': \"Rachel Woods\"},{'country': \"Indonesia\",'number': \"9\",'name': \"Philip Taylor\"},{'country': \"Brazil\",'number': \"7\",'name': \"Lilah Shelton\"},{'country': \"United Kingdom\",'number': \"3\",'name': \"Gillian Harrington\"},{'country': \"Mexico\",'number': \"3\",'name': \"Odessa Sutton\"}]\n"
   ]
  },
  {
   "cell_type": "code",
   "execution_count": 7,
   "id": "234ff0e1",
   "metadata": {},
   "outputs": [
    {
     "data": {
      "text/plain": [
       "[{'country': 'Australia', 'number': '7', 'name': 'Adena Smith'},\n",
       " {'country': 'Australia', 'number': '4', 'name': 'Elton Collins'},\n",
       " {'country': 'Australia', 'number': '3', 'name': 'Charity Conner'},\n",
       " {'country': 'Australia', 'number': '3', 'name': 'Violet Thornton'},\n",
       " {'country': 'Australia', 'number': '8', 'name': 'Wyatt Carey'},\n",
       " {'country': 'Austria', 'number': '6', 'name': 'Indigo Dillard'},\n",
       " {'country': 'Austria', 'number': '3', 'name': 'Shafira Parks'},\n",
       " {'country': 'Austria', 'number': '2', 'name': 'Davis Cardenas'},\n",
       " {'country': 'Belgium', 'number': '8', 'name': 'Barclay Lindsey'},\n",
       " {'country': 'Brazil', 'number': '6', 'name': 'Connor Potts'},\n",
       " {'country': 'Brazil', 'number': '6', 'name': 'Eleanor Solomon'},\n",
       " {'country': 'Brazil', 'number': '7', 'name': 'Lilah Shelton'},\n",
       " {'country': 'Canada', 'number': '1', 'name': 'September Bryan'},\n",
       " {'country': 'Canada', 'number': '8', 'name': 'Gisela Glenn'},\n",
       " {'country': 'Canada', 'number': '5', 'name': 'Cleo Cardenas'},\n",
       " {'country': 'Chile', 'number': '1', 'name': 'Ignatius Guy'},\n",
       " {'country': 'Chile', 'number': '3', 'name': 'Benedict Powell'},\n",
       " {'country': 'Chile', 'number': '5', 'name': 'Kay Parsons'},\n",
       " {'country': 'Chile', 'number': '4', 'name': 'Stewart Coffey'},\n",
       " {'country': 'China', 'number': '7', 'name': 'Rachel Dickson'},\n",
       " {'country': 'China', 'number': '6', 'name': 'Minerva Shields'},\n",
       " {'country': 'China', 'number': '5', 'name': 'Callie Cole'},\n",
       " {'country': 'China', 'number': '1', 'name': 'Cassady Mcdaniel'},\n",
       " {'country': 'China', 'number': '3', 'name': 'Rashad Grimes'},\n",
       " {'country': 'China', 'number': '3', 'name': 'Maia Dunn'},\n",
       " {'country': 'Colombia', 'number': '5', 'name': 'Inga Russell'},\n",
       " {'country': 'Colombia', 'number': '1', 'name': 'Gray Hayden'},\n",
       " {'country': 'Costa Rica', 'number': '2', 'name': 'Judah Brock'},\n",
       " {'country': 'Costa Rica', 'number': '5', 'name': 'Hakeem Flowers'},\n",
       " {'country': 'Costa Rica', 'number': '0', 'name': 'Eve Rivas'},\n",
       " {'country': 'Costa Rica', 'number': '3', 'name': 'Phelan Hodges'},\n",
       " {'country': 'Costa Rica', 'number': '8', 'name': 'Germane Welch'},\n",
       " {'country': 'France', 'number': '4', 'name': 'Devin Spears'},\n",
       " {'country': 'Germany', 'number': '7', 'name': 'Stacey Nixon'},\n",
       " {'country': 'Germany', 'number': '6', 'name': 'Galvin Morrison'},\n",
       " {'country': 'India', 'number': '4', 'name': 'Oren Dominguez'},\n",
       " {'country': 'India', 'number': '9', 'name': 'Dante Charles'},\n",
       " {'country': 'Indonesia', 'number': '9', 'name': 'Philip Taylor'},\n",
       " {'country': 'Ireland', 'number': '2', 'name': 'Simon Giles'},\n",
       " {'country': 'Ireland', 'number': '2', 'name': 'Lane Chandler'},\n",
       " {'country': 'Ireland', 'number': '4', 'name': 'Rachel Howell'},\n",
       " {'country': 'Italy', 'number': '2', 'name': 'Ronan Ellis'},\n",
       " {'country': 'Italy', 'number': '7', 'name': 'Xanthus Wilkerson'},\n",
       " {'country': 'Italy', 'number': '6', 'name': 'Debra Melendez'},\n",
       " {'country': 'Italy', 'number': '8', 'name': 'Steel Cantu'},\n",
       " {'country': 'Mexico', 'number': '3', 'name': 'Rylee Sharpe'},\n",
       " {'country': 'Mexico', 'number': '3', 'name': 'Brynn Hinton'},\n",
       " {'country': 'Mexico', 'number': '2', 'name': 'Yael Glass'},\n",
       " {'country': 'Mexico', 'number': '7', 'name': 'Rajah Robles'},\n",
       " {'country': 'Mexico', 'number': '7', 'name': 'Graham Ewing'},\n",
       " {'country': 'Mexico', 'number': '3', 'name': 'Odessa Sutton'},\n",
       " {'country': 'Netherlands', 'number': '9', 'name': 'Ivana Compton'},\n",
       " {'country': 'New Zealand', 'number': '8', 'name': 'Tarik Coleman'},\n",
       " {'country': 'Nigeria', 'number': '7', 'name': 'Rachel Woods'},\n",
       " {'country': 'Norway', 'number': '5', 'name': 'Keane Dean'},\n",
       " {'country': 'Norway', 'number': '7', 'name': 'Robin Butler'},\n",
       " {'country': 'Norway', 'number': '8', 'name': 'Cain Fields'},\n",
       " {'country': 'Norway', 'number': '10', 'name': 'Britanney Daniels'},\n",
       " {'country': 'Pakistan', 'number': '0', 'name': 'Robert Cunningham'},\n",
       " {'country': 'Peru', 'number': '2', 'name': 'Fuller Burris'},\n",
       " {'country': 'Peru', 'number': '7', 'name': 'Abra Lewis'},\n",
       " {'country': 'Peru', 'number': '0', 'name': 'Ross Moss'},\n",
       " {'country': 'Philippines', 'number': '4', 'name': 'Omar Burgess'},\n",
       " {'country': 'Philippines', 'number': '9', 'name': 'Simone Tanner'},\n",
       " {'country': 'Philippines', 'number': '5', 'name': 'Paul Padilla'},\n",
       " {'country': 'Poland', 'number': '6', 'name': 'Yen Sargent'},\n",
       " {'country': 'Russian Federation', 'number': '9', 'name': 'Duncan Ware'},\n",
       " {'country': 'Russian Federation', 'number': '9', 'name': 'Lionel Armstrong'},\n",
       " {'country': 'Singapore', 'number': '2', 'name': 'Allegra Baird'},\n",
       " {'country': 'Singapore', 'number': '3', 'name': 'Walter Forbes'},\n",
       " {'country': 'Singapore', 'number': '6', 'name': 'Kasper Justice'},\n",
       " {'country': 'South Africa', 'number': '3', 'name': 'Uriel Greene'},\n",
       " {'country': 'South Africa', 'number': '4', 'name': 'Glenna Clark'},\n",
       " {'country': 'South Korea', 'number': '2', 'name': 'Lucius Snider'},\n",
       " {'country': 'South Korea', 'number': '8', 'name': 'Jamal Kelly'},\n",
       " {'country': 'South Korea', 'number': '4', 'name': 'Zephr Deleon'},\n",
       " {'country': 'Spain', 'number': '7', 'name': 'Tamekah Gutierrez'},\n",
       " {'country': 'Spain', 'number': '8', 'name': 'Bo Hardy'},\n",
       " {'country': 'Spain', 'number': '4', 'name': 'Ignatius Newman'},\n",
       " {'country': 'Sweden', 'number': '7', 'name': 'Lyle Nguyen'},\n",
       " {'country': 'Sweden', 'number': '2', 'name': 'Quinn Berg'},\n",
       " {'country': 'Sweden', 'number': '8', 'name': 'Kylee Good'},\n",
       " {'country': 'Turkey', 'number': '7', 'name': 'Kenyon Rosa'},\n",
       " {'country': 'Ukraine', 'number': '3', 'name': 'Derek Bolton'},\n",
       " {'country': 'Ukraine', 'number': '2', 'name': 'Kylan Witt'},\n",
       " {'country': 'Ukraine', 'number': '7', 'name': 'Malcolm Cox'},\n",
       " {'country': 'Ukraine', 'number': '3', 'name': 'Liberty Mathis'},\n",
       " {'country': 'Ukraine', 'number': '3', 'name': 'Mohammad Holder'},\n",
       " {'country': 'Ukraine', 'number': '4', 'name': 'Christen James'},\n",
       " {'country': 'United Kingdom', 'number': '10', 'name': 'Zenia Coffey'},\n",
       " {'country': 'United Kingdom', 'number': '1', 'name': 'Brendan Pearson'},\n",
       " {'country': 'United Kingdom', 'number': '3', 'name': 'Gillian Harrington'},\n",
       " {'country': 'United States', 'number': '3', 'name': 'Britanney Durham'},\n",
       " {'country': 'United States', 'number': '1', 'name': 'Kitra Willis'},\n",
       " {'country': 'United States', 'number': '0', 'name': 'Cedric Gates'},\n",
       " {'country': 'United States', 'number': '3', 'name': 'Rudyard Barrett'},\n",
       " {'country': 'United States', 'number': '8', 'name': 'Castor Bowen'},\n",
       " {'country': 'Vietnam', 'number': '8', 'name': 'Jonas Bryan'},\n",
       " {'country': 'Vietnam', 'number': '0', 'name': 'Iliana Daniels'},\n",
       " {'country': 'Vietnam', 'number': '1', 'name': 'Eliana Nicholson'}]"
      ]
     },
     "execution_count": 7,
     "metadata": {},
     "output_type": "execute_result"
    }
   ],
   "source": [
    "sorted(data, key = lambda j: j['country'])"
   ]
  },
  {
   "cell_type": "code",
   "execution_count": 8,
   "id": "374a2639",
   "metadata": {},
   "outputs": [
    {
     "name": "stdout",
     "output_type": "stream",
     "text": [
      "{'country': 'Ukraine', 'number': '3', 'name': 'Derek Bolton'}\n",
      "{'country': 'United States', 'number': '3', 'name': 'Britanney Durham'}\n",
      "{'country': 'Norway', 'number': '7', 'name': 'Robin Butler'}\n",
      "{'country': 'Australia', 'number': '7', 'name': 'Adena Smith'}\n",
      "{'country': 'Belgium', 'number': '8', 'name': 'Barclay Lindsey'}\n",
      "{'country': 'Peru', 'number': '2', 'name': 'Fuller Burris'}\n",
      "{'country': 'Chile', 'number': '3', 'name': 'Benedict Powell'}\n",
      "{'country': 'Peru', 'number': '7', 'name': 'Abra Lewis'}\n",
      "{'country': 'United States', 'number': '3', 'name': 'Rudyard Barrett'}\n",
      "{'country': 'Costa Rica', 'number': '2', 'name': 'Judah Brock'}\n",
      "{'country': 'Singapore', 'number': '2', 'name': 'Allegra Baird'}\n",
      "{'country': 'Singapore', 'number': '2', 'name': 'Allegra Baird'}\n",
      "{'country': 'Philippines', 'number': '4', 'name': 'Omar Burgess'}\n",
      "{'country': 'Mexico', 'number': '3', 'name': 'Brynn Hinton'}\n",
      "{'country': 'Sweden', 'number': '2', 'name': 'Quinn Berg'}\n",
      "{'country': 'United Kingdom', 'number': '1', 'name': 'Brendan Pearson'}\n",
      "{'country': 'Canada', 'number': '1', 'name': 'September Bryan'}\n",
      "{'country': 'Spain', 'number': '8', 'name': 'Bo Hardy'}\n",
      "{'country': 'Vietnam', 'number': '8', 'name': 'Jonas Bryan'}\n",
      "{'country': 'Norway', 'number': '10', 'name': 'Britanney Daniels'}\n",
      "{'country': 'United States', 'number': '8', 'name': 'Castor Bowen'}\n",
      "{'country': 'Russian Federation', 'number': '9', 'name': 'Lionel Armstrong'}\n"
     ]
    }
   ],
   "source": [
    "for i in data:\n",
    "    for j in i['name']:\n",
    "        if list(filter(lambda j : (j[0] == 'A'), j)):\n",
    "            print(i)\n",
    "        if list(filter(lambda j : (j[0] == 'B'), j)):\n",
    "            print(i)"
   ]
  },
  {
   "cell_type": "code",
   "execution_count": 9,
   "id": "724d3499",
   "metadata": {},
   "outputs": [
    {
     "name": "stdout",
     "output_type": "stream",
     "text": [
      "{'country': 'China', 'number': '7', 'name': 'Rachel Dickson'}\n",
      "{'country': 'Norway', 'number': '5', 'name': 'Keane Dean'}\n",
      "{'country': 'Norway', 'number': '7', 'name': 'Robin Butler'}\n",
      "{'country': 'Germany', 'number': '7', 'name': 'Stacey Nixon'}\n",
      "{'country': 'Australia', 'number': '7', 'name': 'Adena Smith'}\n",
      "{'country': 'Chile', 'number': '1', 'name': 'Ignatius Guy'}\n",
      "{'country': 'United States', 'number': '1', 'name': 'Kitra Willis'}\n",
      "{'country': 'Peru', 'number': '7', 'name': 'Abra Lewis'}\n",
      "{'country': 'China', 'number': '5', 'name': 'Callie Cole'}\n",
      "{'country': 'Ukraine', 'number': '7', 'name': 'Malcolm Cox'}\n",
      "{'country': 'Sweden', 'number': '7', 'name': 'Lyle Nguyen'}\n",
      "{'country': 'China', 'number': '1', 'name': 'Cassady Mcdaniel'}\n",
      "{'country': 'Turkey', 'number': '7', 'name': 'Kenyon Rosa'}\n",
      "{'country': 'Spain', 'number': '7', 'name': 'Tamekah Gutierrez'}\n",
      "{'country': 'United Kingdom', 'number': '10', 'name': 'Zenia Coffey'}\n",
      "{'country': 'Colombia', 'number': '5', 'name': 'Inga Russell'}\n",
      "{'country': 'United Kingdom', 'number': '1', 'name': 'Brendan Pearson'}\n",
      "{'country': 'Canada', 'number': '1', 'name': 'September Bryan'}\n",
      "{'country': 'Costa Rica', 'number': '5', 'name': 'Hakeem Flowers'}\n",
      "{'country': 'Mexico', 'number': '7', 'name': 'Rajah Robles'}\n",
      "{'country': 'Chile', 'number': '5', 'name': 'Kay Parsons'}\n",
      "{'country': 'Colombia', 'number': '1', 'name': 'Gray Hayden'}\n",
      "{'country': 'Vietnam', 'number': '1', 'name': 'Eliana Nicholson'}\n",
      "{'country': 'Italy', 'number': '7', 'name': 'Xanthus Wilkerson'}\n",
      "{'country': 'Norway', 'number': '10', 'name': 'Britanney Daniels'}\n",
      "{'country': 'Mexico', 'number': '7', 'name': 'Graham Ewing'}\n",
      "{'country': 'Canada', 'number': '5', 'name': 'Cleo Cardenas'}\n",
      "{'country': 'Philippines', 'number': '5', 'name': 'Paul Padilla'}\n",
      "{'country': 'Nigeria', 'number': '7', 'name': 'Rachel Woods'}\n",
      "{'country': 'Brazil', 'number': '7', 'name': 'Lilah Shelton'}\n"
     ]
    }
   ],
   "source": [
    "for i in data:\n",
    "    for j in i['number']:\n",
    "        if list(filter(lambda j : (int(j) % 2 > 0 and int(j) % 3 > 0), j)):\n",
    "             print(i)"
   ]
  },
  {
   "cell_type": "code",
   "execution_count": 10,
   "id": "dd2d04e8",
   "metadata": {},
   "outputs": [
    {
     "data": {
      "text/plain": [
       "[6,\n",
       " 6,\n",
       " 14,\n",
       " 8,\n",
       " 10,\n",
       " 16,\n",
       " 6,\n",
       " 12,\n",
       " 14,\n",
       " 14,\n",
       " 8,\n",
       " 14,\n",
       " 4,\n",
       " 2,\n",
       " 16,\n",
       " 4,\n",
       " 4,\n",
       " 2,\n",
       " 12,\n",
       " 6,\n",
       " 18,\n",
       " 14,\n",
       " 10,\n",
       " 0,\n",
       " 14,\n",
       " 12,\n",
       " 14,\n",
       " 6,\n",
       " 4,\n",
       " 4,\n",
       " 2,\n",
       " 4,\n",
       " 8,\n",
       " 14,\n",
       " 12,\n",
       " 6,\n",
       " 14,\n",
       " 6,\n",
       " 6,\n",
       " 6,\n",
       " 4,\n",
       " 18,\n",
       " 4,\n",
       " 20,\n",
       " 4,\n",
       " 10,\n",
       " 2,\n",
       " 6,\n",
       " 18,\n",
       " 16,\n",
       " 2,\n",
       " 10,\n",
       " 0,\n",
       " 16,\n",
       " 4,\n",
       " 4,\n",
       " 6,\n",
       " 16,\n",
       " 0,\n",
       " 8,\n",
       " 16,\n",
       " 0,\n",
       " 14,\n",
       " 6,\n",
       " 10,\n",
       " 8,\n",
       " 6,\n",
       " 2,\n",
       " 18,\n",
       " 16,\n",
       " 0,\n",
       " 8,\n",
       " 16,\n",
       " 2,\n",
       " 8,\n",
       " 8,\n",
       " 6,\n",
       " 8,\n",
       " 12,\n",
       " 14,\n",
       " 12,\n",
       " 12,\n",
       " 20,\n",
       " 16,\n",
       " 14,\n",
       " 6,\n",
       " 6,\n",
       " 10,\n",
       " 16,\n",
       " 16,\n",
       " 10,\n",
       " 16,\n",
       " 8,\n",
       " 18,\n",
       " 12,\n",
       " 14,\n",
       " 18,\n",
       " 14,\n",
       " 6,\n",
       " 6]"
      ]
     },
     "execution_count": 10,
     "metadata": {},
     "output_type": "execute_result"
    }
   ],
   "source": [
    "list(map(lambda j: (int(j['number'])*2), data))"
   ]
  },
  {
   "cell_type": "markdown",
   "id": "e38c201d",
   "metadata": {},
   "source": [
    "# Recursive functions\n",
    "### For any recursive function you write in this section, make clear (with comments) what your base cases and your recursive cases are.\n",
    "Remember the example of the factorial function from the lecture. I will reproduce the Python code here:"
   ]
  },
  {
   "cell_type": "code",
   "execution_count": 11,
   "id": "fe8e5c07",
   "metadata": {},
   "outputs": [
    {
     "name": "stdout",
     "output_type": "stream",
     "text": [
      "The factorial of 6 is 720\n"
     ]
    }
   ],
   "source": [
    "def factorial(x):\n",
    "    if x == 0: # base case\n",
    "        return 1\n",
    "    else: # recursive case\n",
    "        return (x * factorial(x-1))\n",
    "\n",
    "\n",
    "num = 6\n",
    "print(\"The factorial of\", num, \"is\", factorial(num))"
   ]
  },
  {
   "cell_type": "markdown",
   "id": "fec13b6f",
   "metadata": {},
   "source": [
    "The other example in the lecture was concerned with Fibonacci numbers.\n",
    "### Exercise 1\n",
    "#### a\n",
    "Implement this Fibonacci function **recursively** in Python:"
   ]
  },
  {
   "cell_type": "code",
   "execution_count": 12,
   "id": "5aa9d82d",
   "metadata": {},
   "outputs": [
    {
     "name": "stdout",
     "output_type": "stream",
     "text": [
      "The fibonacci of 6 is\n",
      "0\n",
      "1\n",
      "1\n",
      "2\n",
      "3\n",
      "5\n"
     ]
    }
   ],
   "source": [
    "def Fibonacci(x):\n",
    "    if x <= 1:\n",
    "        return x\n",
    "    else: \n",
    "        return (Fibonacci(x-2) + Fibonacci(x-1))\n",
    "    \n",
    "num = 6\n",
    "print(\"The fibonacci of\", num, \"is\")\n",
    "for i in range(num):\n",
    "    print(Fibonacci(i))"
   ]
  },
  {
   "cell_type": "markdown",
   "id": "a89ff1b4",
   "metadata": {},
   "source": [
    "#### b\n",
    "Test your function on some higher numbers. What do you notice? What do you think is causing this?"
   ]
  },
  {
   "cell_type": "markdown",
   "id": "02d6b0c3",
   "metadata": {},
   "source": [
    "The higher number I use for input, the longer time is needed, also the outcome will appear one by one. I think the reason behind this is because the recursive steps are needed to be processed over and over again."
   ]
  },
  {
   "cell_type": "markdown",
   "id": "0ccdd531",
   "metadata": {},
   "source": [
    "### Exercise 2\n",
    "Write a recursive function that takes a list of integers as input and returns the maximum integer stored in the list. Thinking recursively, the maximum is either the first value in the list or the maximum of the rest of the list, whichever is larger. If the list only has 1 integer, then its maximum is this single value, naturally."
   ]
  },
  {
   "cell_type": "code",
   "execution_count": 13,
   "id": "461dcfd1",
   "metadata": {},
   "outputs": [
    {
     "data": {
      "text/plain": [
       "18"
      ]
     },
     "execution_count": 13,
     "metadata": {},
     "output_type": "execute_result"
    }
   ],
   "source": [
    "def maximum(originallist):\n",
    "    newlist = sorted(originallist)\n",
    "    \n",
    "    if len(newlist) == 1:\n",
    "        return newlist[0]\n",
    "    else:\n",
    "        if len (newlist) > 1:\n",
    "            return newlist[-1]\n",
    "            x = newlist[-1]\n",
    "            newlist = newlist.pop(x)\n",
    "            \n",
    "onelist = [1,3,5,18,7]\n",
    "maximum(onelist)"
   ]
  },
  {
   "cell_type": "code",
   "execution_count": 14,
   "id": "e97ff8d1",
   "metadata": {},
   "outputs": [
    {
     "ename": "SyntaxError",
     "evalue": "invalid syntax (2000745013.py, line 6)",
     "output_type": "error",
     "traceback": [
      "\u001b[1;36m  Input \u001b[1;32mIn [14]\u001b[1;36m\u001b[0m\n\u001b[1;33m    returm max(L.pop(), max_in_list(L))\u001b[0m\n\u001b[1;37m           ^\u001b[0m\n\u001b[1;31mSyntaxError\u001b[0m\u001b[1;31m:\u001b[0m invalid syntax\n"
     ]
    }
   ],
   "source": [
    "#solution\n",
    "def max_in_list(L):\n",
    "    if len(L) == 1:\n",
    "        return L.pop()\n",
    "    else:\n",
    "        returm max(L.pop(), max_in_list(L))\n",
    "        \n",
    "max_in_list([2,5,68,1])"
   ]
  },
  {
   "cell_type": "markdown",
   "id": "f7d5ea73",
   "metadata": {},
   "source": [
    "### Exercise 3\n",
    "Write a recursive function **letterCount** that takes a string and a character as input, and returns how many times the character occurs in the string. For example, it should have the following outputs:\n",
    "* **letterCount**(\"Julian\", 'i') = 1\n",
    "* **letterCount**(\"Ceel\", 'e') = 2\n",
    "* **letterCount**(\"Joris\", 'a') = 0"
   ]
  },
  {
   "cell_type": "code",
   "execution_count": 15,
   "id": "da9a1d90",
   "metadata": {},
   "outputs": [
    {
     "name": "stdout",
     "output_type": "stream",
     "text": [
      "1\n"
     ]
    }
   ],
   "source": [
    "def letterCount(string, character, index=0, count=0):\n",
    "    # Base case: if we've reached the end of the string, return the count\n",
    "    if index == len(string):\n",
    "        return count\n",
    "    # Recursive case: if the current character matches, increment count\n",
    "    if string[index] == character:\n",
    "        return letterCount(string, character, index + 1, count + 1)\n",
    "    # Recursive case: if the current character doesn't match, continue to the next character\n",
    "    else:\n",
    "        return letterCount(string, character, index + 1, count)\n",
    "\n",
    "print(letterCount('Freda', 'a'))  # will return 1"
   ]
  },
  {
   "cell_type": "code",
   "execution_count": 16,
   "id": "be0a0fb5",
   "metadata": {},
   "outputs": [
    {
     "data": {
      "text/plain": [
       "2"
      ]
     },
     "execution_count": 16,
     "metadata": {},
     "output_type": "execute_result"
    }
   ],
   "source": [
    "letterCount('Ceel', 'e')"
   ]
  },
  {
   "cell_type": "code",
   "execution_count": 17,
   "id": "b05878d1",
   "metadata": {},
   "outputs": [
    {
     "data": {
      "text/plain": [
       "0"
      ]
     },
     "execution_count": 17,
     "metadata": {},
     "output_type": "execute_result"
    }
   ],
   "source": [
    "letterCount('Joris', 'a')"
   ]
  }
 ],
 "metadata": {
  "kernelspec": {
   "display_name": "Python 3 (ipykernel)",
   "language": "python",
   "name": "python3"
  },
  "language_info": {
   "codemirror_mode": {
    "name": "ipython",
    "version": 3
   },
   "file_extension": ".py",
   "mimetype": "text/x-python",
   "name": "python",
   "nbconvert_exporter": "python",
   "pygments_lexer": "ipython3",
   "version": "3.9.12"
  }
 },
 "nbformat": 4,
 "nbformat_minor": 5
}
