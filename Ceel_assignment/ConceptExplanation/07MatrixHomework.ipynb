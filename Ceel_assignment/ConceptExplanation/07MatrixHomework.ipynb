{
 "cells": [
  {
   "cell_type": "markdown",
   "id": "230d6171",
   "metadata": {},
   "source": [
    "# 1.1"
   ]
  },
  {
   "cell_type": "code",
   "execution_count": 1,
   "id": "71c6a2e1",
   "metadata": {},
   "outputs": [],
   "source": [
    "import numpy as np"
   ]
  },
  {
   "cell_type": "code",
   "execution_count": 2,
   "id": "067d9e8b",
   "metadata": {},
   "outputs": [],
   "source": [
    "def SMM(A, B):\n",
    "    n = len(A)\n",
    "    C = np.array([[0 for col in range(n)] for row in range(n)])\n",
    "    for i in range (n):\n",
    "        for j in range(n):\n",
    "            for k in range(n):\n",
    "                C[i][j] += A[i][k] * B[k][j]\n",
    "    return C"
   ]
  },
  {
   "cell_type": "code",
   "execution_count": 3,
   "id": "bee22d35",
   "metadata": {},
   "outputs": [
    {
     "data": {
      "text/plain": [
       "array([[ 116, 1452],\n",
       "       [  90, 1430]])"
      ]
     },
     "execution_count": 3,
     "metadata": {},
     "output_type": "execute_result"
    }
   ],
   "source": [
    "A = [[10,28],[5,30]]\n",
    "B = [[6,22],[2,44]]\n",
    "SMM(A,B)"
   ]
  },
  {
   "cell_type": "code",
   "execution_count": 4,
   "id": "0508b06b",
   "metadata": {},
   "outputs": [
    {
     "data": {
      "text/plain": [
       "array([[ 116, 1452],\n",
       "       [  90, 1430]])"
      ]
     },
     "execution_count": 4,
     "metadata": {},
     "output_type": "execute_result"
    }
   ],
   "source": [
    "np.matmul(A, B)"
   ]
  },
  {
   "cell_type": "markdown",
   "id": "c18d868d",
   "metadata": {},
   "source": [
    "# 1.2\n",
    "O(n³)"
   ]
  },
  {
   "cell_type": "markdown",
   "id": "d1f326c7",
   "metadata": {},
   "source": [
    "# 2.1\n",
    "1.The algorithm is recursive as it constantly break the matrix A, as well as matrix B, into 4 matrices, following the rules of dividing both number of columns and rows by two, until they become 1 * 1 size. The base case is when matrix A and B become 1 * 1, then C11 = a11 * b11.\n",
    "\n",
    "2.\n",
    "Divide: Divide the matrix into 4 smaller matrices, following the rules of dividing both number of columns and rows by two, i.e.divide n * n matrix into four (n/2) * (n/2) matrices.\n",
    "Conquer: Create the smaller matrix C recursively by merging the matrix A and matrix B using the according formulas.   \n",
    "Combine: Merge the smaller matrix Cs together."
   ]
  },
  {
   "cell_type": "markdown",
   "id": "c497fef9",
   "metadata": {},
   "source": [
    "# 2.2\n",
    "Divide: O(1)   \n",
    "Conquer: 8T(n/2)   \n",
    "Combine: O(n²)   \n",
    "\n",
    "T(n) = O(1), if n = 1   \n",
    "T(n) = 8T(n/2) + O(n²), if n>1"
   ]
  },
  {
   "cell_type": "markdown",
   "id": "c4d53e59",
   "metadata": {},
   "source": [
    "# 2.3"
   ]
  },
  {
   "cell_type": "code",
   "execution_count": null,
   "id": "16432ded",
   "metadata": {},
   "outputs": [],
   "source": [
    "def SMMRec(A, B):\n",
    "    n = len(A)\n",
    "    C = np.array([[0 for col in range(n)] for row in range(n)])\n",
    "    if n == 1:\n",
    "        C[0][0] = A[0][0] * B[0][0]\n",
    "    else:\n",
    "        A11 = [A[i][:n // 2] for i in range(n // 2)]\n",
    "        A12 = [A[i][n // 2:] for i in range(n // 2)]\n",
    "        A21 = [A[i][:n // 2] for i in range(n // 2, n)]\n",
    "        A22 = [A[i][n // 2:] for i in range(n // 2, n)]\n",
    "        B11 = [B[i][:n // 2] for i in range(n // 2)]\n",
    "        B12 = [B[i][n // 2:] for i in range(n // 2)]\n",
    "        B21 = [B[i][:n // 2] for i in range(n // 2, n)]\n",
    "        B22 = [B[i][n // 2:] for i in range(n // 2, n)]\n",
    "        C11 = SMMRec(A11, B11) + SMMRec(A12, B21)\n",
    "        C12 = SMMRec(A11, B12) + SMMRec(A12, B22)\n",
    "        C21 = SMMRec(A21, B11) + SMMRec(A22, B21)\n",
    "        C22 = SMMRec(A21, B12) + SMMRec(A22, B22)\n",
    "    return C        "
   ]
  },
  {
   "cell_type": "code",
   "execution_count": null,
   "id": "ccd86613",
   "metadata": {},
   "outputs": [],
   "source": []
  }
 ],
 "metadata": {
  "kernelspec": {
   "display_name": "Python 3 (ipykernel)",
   "language": "python",
   "name": "python3"
  },
  "language_info": {
   "codemirror_mode": {
    "name": "ipython",
    "version": 3
   },
   "file_extension": ".py",
   "mimetype": "text/x-python",
   "name": "python",
   "nbconvert_exporter": "python",
   "pygments_lexer": "ipython3",
   "version": "3.9.12"
  }
 },
 "nbformat": 4,
 "nbformat_minor": 5
}
