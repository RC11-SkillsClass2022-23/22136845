{
 "cells": [
  {
   "cell_type": "code",
   "execution_count": 12,
   "id": "ffa3afb4",
   "metadata": {},
   "outputs": [],
   "source": [
    "import numpy as np\n",
    "import math"
   ]
  },
  {
   "cell_type": "markdown",
   "id": "50ea015a",
   "metadata": {},
   "source": [
    "# Exercise 01\n",
    "slowest 2>8>7>3>4>5>1>6>9 fastest"
   ]
  },
  {
   "cell_type": "markdown",
   "id": "6e89d4c7",
   "metadata": {},
   "source": [
    "# Exercise 02\n",
    "1.n: 60000000"
   ]
  },
  {
   "cell_type": "markdown",
   "id": "5a2369ba",
   "metadata": {},
   "source": [
    "# Exercise 03\n",
    "1. g(n) = Of(n)\n",
    "if c = 2, N = 1, n >= 4 * (ln(n²))²\n",
    "\n",
    "2. g(n) = Of(n)\n",
    "if c =2, N = 1, log(n) >= 2 * ln(n)\n",
    "\n",
    "3. g(n) = Of(n)\n",
    "if c =2, N = 1, n >= 2 * log(n)"
   ]
  },
  {
   "cell_type": "markdown",
   "id": "4b37a617",
   "metadata": {},
   "source": [
    "# Exercise 04"
   ]
  },
  {
   "cell_type": "markdown",
   "id": "a2c0e305",
   "metadata": {},
   "source": [
    "# Exercise 05"
   ]
  },
  {
   "cell_type": "code",
   "execution_count": 13,
   "id": "57009410",
   "metadata": {},
   "outputs": [
    {
     "name": "stdout",
     "output_type": "stream",
     "text": [
      "Enter a number: 7\n"
     ]
    },
    {
     "data": {
      "text/plain": [
       "5040"
      ]
     },
     "execution_count": 13,
     "metadata": {},
     "output_type": "execute_result"
    }
   ],
   "source": [
    "import math\n",
    "def Factorial(n): \n",
    "    if n == 0 : \n",
    "        return 1 \n",
    "    else : \n",
    "        return int(n) * math.factorial(int(n) - 1)\n",
    "    \n",
    "a = input(\"Enter a number: \")\n",
    "Factorial(a)"
   ]
  },
  {
   "cell_type": "markdown",
   "id": "d61766c6",
   "metadata": {},
   "source": [
    "# Exercise 06"
   ]
  },
  {
   "cell_type": "markdown",
   "id": "874f0b14",
   "metadata": {},
   "source": [
    "# Exercise 07\n",
    "Algorithm 2: O(n)\n",
    "\n",
    "Algorithm 3: O(n²)\n",
    "\n",
    "Algorithm 4: O(n³)\n",
    "\n",
    "Algorithm 5: O(n+1)\n",
    "\n",
    "Algorithm 6: O(n+2)"
   ]
  }
 ],
 "metadata": {
  "kernelspec": {
   "display_name": "Python 3 (ipykernel)",
   "language": "python",
   "name": "python3"
  },
  "language_info": {
   "codemirror_mode": {
    "name": "ipython",
    "version": 3
   },
   "file_extension": ".py",
   "mimetype": "text/x-python",
   "name": "python",
   "nbconvert_exporter": "python",
   "pygments_lexer": "ipython3",
   "version": "3.9.12"
  }
 },
 "nbformat": 4,
 "nbformat_minor": 5
}
