{
 "cells": [
  {
   "cell_type": "code",
   "execution_count": 2,
   "id": "4323b87e",
   "metadata": {},
   "outputs": [
    {
     "name": "stdout",
     "output_type": "stream",
     "text": [
      "Collecting moviepy\n",
      "  Downloading moviepy-1.0.3.tar.gz (388 kB)\n",
      "     -------------------------------------- 388.3/388.3 kB 4.8 MB/s eta 0:00:00\n",
      "  Preparing metadata (setup.py): started\n",
      "  Preparing metadata (setup.py): finished with status 'done'\n",
      "Collecting decorator<5.0,>=4.0.2\n",
      "  Downloading decorator-4.4.2-py2.py3-none-any.whl (9.2 kB)\n",
      "Requirement already satisfied: tqdm<5.0,>=4.11.2 in c:\\users\\itsfr\\anaconda3\\lib\\site-packages (from moviepy) (4.64.0)\n",
      "Requirement already satisfied: requests<3.0,>=2.8.1 in c:\\users\\itsfr\\anaconda3\\lib\\site-packages (from moviepy) (2.25.1)\n",
      "Collecting proglog<=1.0.0\n",
      "  Downloading proglog-0.1.10-py3-none-any.whl (6.1 kB)\n",
      "Requirement already satisfied: numpy>=1.17.3 in c:\\users\\itsfr\\anaconda3\\lib\\site-packages (from moviepy) (1.21.6)\n",
      "Requirement already satisfied: imageio<3.0,>=2.5 in c:\\users\\itsfr\\anaconda3\\lib\\site-packages (from moviepy) (2.9.0)\n",
      "Collecting imageio_ffmpeg>=0.2.0\n",
      "  Downloading imageio_ffmpeg-0.4.8-py3-none-win_amd64.whl (22.6 MB)\n",
      "     --------------------------------------- 22.6/22.6 MB 26.2 MB/s eta 0:00:00\n",
      "Requirement already satisfied: pillow in c:\\users\\itsfr\\anaconda3\\lib\\site-packages (from imageio<3.0,>=2.5->moviepy) (9.0.1)\n",
      "Requirement already satisfied: certifi>=2017.4.17 in c:\\users\\itsfr\\anaconda3\\lib\\site-packages (from requests<3.0,>=2.8.1->moviepy) (2022.9.24)\n",
      "Requirement already satisfied: chardet<5,>=3.0.2 in c:\\users\\itsfr\\anaconda3\\lib\\site-packages (from requests<3.0,>=2.8.1->moviepy) (4.0.0)\n",
      "Requirement already satisfied: idna<3,>=2.5 in c:\\users\\itsfr\\anaconda3\\lib\\site-packages (from requests<3.0,>=2.8.1->moviepy) (2.10)\n",
      "Requirement already satisfied: urllib3<1.27,>=1.21.1 in c:\\users\\itsfr\\anaconda3\\lib\\site-packages (from requests<3.0,>=2.8.1->moviepy) (1.26.9)\n",
      "Requirement already satisfied: colorama in c:\\users\\itsfr\\anaconda3\\lib\\site-packages (from tqdm<5.0,>=4.11.2->moviepy) (0.4.4)\n",
      "Building wheels for collected packages: moviepy\n",
      "  Building wheel for moviepy (setup.py): started\n",
      "  Building wheel for moviepy (setup.py): finished with status 'done'\n",
      "  Created wheel for moviepy: filename=moviepy-1.0.3-py3-none-any.whl size=110788 sha256=677a8b388f8d41ea9d172df9e4e33b9b8f9eabd42c02dc6fb7c4c9a310ca57d9\n",
      "  Stored in directory: c:\\users\\itsfr\\appdata\\local\\pip\\cache\\wheels\\29\\15\\e4\\4f790bec6acd51a00b67e8ee1394f0bc6e0135c315f8ff399a\n",
      "Successfully built moviepy\n",
      "Installing collected packages: imageio_ffmpeg, decorator, proglog, moviepy\n",
      "  Attempting uninstall: decorator\n",
      "    Found existing installation: decorator 5.1.1\n",
      "    Uninstalling decorator-5.1.1:\n",
      "      Successfully uninstalled decorator-5.1.1\n",
      "Successfully installed decorator-4.4.2 imageio_ffmpeg-0.4.8 moviepy-1.0.3 proglog-0.1.10\n"
     ]
    },
    {
     "name": "stderr",
     "output_type": "stream",
     "text": [
      "WARNING: Ignoring invalid distribution -illow (c:\\users\\itsfr\\anaconda3\\lib\\site-packages)\n",
      "WARNING: Ignoring invalid distribution -illow (c:\\users\\itsfr\\anaconda3\\lib\\site-packages)\n",
      "WARNING: Ignoring invalid distribution -illow (c:\\users\\itsfr\\anaconda3\\lib\\site-packages)\n",
      "    WARNING: Ignoring invalid distribution -illow (c:\\users\\itsfr\\anaconda3\\lib\\site-packages)\n",
      "WARNING: Ignoring invalid distribution -illow (c:\\users\\itsfr\\anaconda3\\lib\\site-packages)\n",
      "WARNING: Ignoring invalid distribution -illow (c:\\users\\itsfr\\anaconda3\\lib\\site-packages)\n",
      "WARNING: Ignoring invalid distribution -illow (c:\\users\\itsfr\\anaconda3\\lib\\site-packages)\n",
      "WARNING: Ignoring invalid distribution -illow (c:\\users\\itsfr\\anaconda3\\lib\\site-packages)\n",
      "WARNING: Ignoring invalid distribution -illow (c:\\users\\itsfr\\anaconda3\\lib\\site-packages)\n",
      "WARNING: Ignoring invalid distribution -illow (c:\\users\\itsfr\\anaconda3\\lib\\site-packages)\n",
      "WARNING: Ignoring invalid distribution -illow (c:\\users\\itsfr\\anaconda3\\lib\\site-packages)\n",
      "\n",
      "[notice] A new release of pip is available: 23.0 -> 23.1.2\n",
      "[notice] To update, run: python.exe -m pip install --upgrade pip\n"
     ]
    }
   ],
   "source": [
    "!pip install moviepy"
   ]
  },
  {
   "cell_type": "code",
   "execution_count": 4,
   "id": "44982e29",
   "metadata": {},
   "outputs": [
    {
     "name": "stdout",
     "output_type": "stream",
     "text": [
      "[youtube] Extracting URL: https://www.youtube.com/watch?v=iDCoE-unmTw\n",
      "[youtube] iDCoE-unmTw: Downloading webpage\n",
      "[youtube] iDCoE-unmTw: Downloading android player API JSON\n",
      "[info] iDCoE-unmTw: Downloading 1 format(s): 299+140\n",
      "[dashsegments] Total fragments: 47\n",
      "[download] Destination: Exploring the streets of Karaköy in Istanbul.f299.mp4\n",
      "[download] 100% of  467.53MiB in 00:00:25 at 18.26MiB/s                  \n",
      "[dashsegments] Total fragments: 2\n",
      "[download] Destination: Exploring the streets of Karaköy in Istanbul.f140.m4a\n",
      "[download] 100% of   13.57MiB in 00:00:01 at 11.21MiB/s                 \n",
      "[Merger] Merging formats into \"Exploring the streets of Karaköy in Istanbul.mp4\"\n",
      "Deleting original file Exploring the streets of Karaköy in Istanbul.f140.m4a (pass -k to keep)\n",
      "Deleting original file Exploring the streets of Karaköy in Istanbul.f299.mp4 (pass -k to keep)\n",
      "Moviepy - Building video temp_Exploring the streets of Karaköy in Istanbul.mp4.\n",
      "MoviePy - Writing audio in temp_Exploring the streets of Karaköy in IstanbulTEMP_MPY_wvf_snd.mp3\n"
     ]
    },
    {
     "name": "stderr",
     "output_type": "stream",
     "text": [
      "                                                                      \r"
     ]
    },
    {
     "name": "stdout",
     "output_type": "stream",
     "text": [
      "MoviePy - Done.\n",
      "Moviepy - Writing video temp_Exploring the streets of Karaköy in Istanbul.mp4\n",
      "\n"
     ]
    },
    {
     "name": "stderr",
     "output_type": "stream",
     "text": [
      "                                                                  \r"
     ]
    },
    {
     "name": "stdout",
     "output_type": "stream",
     "text": [
      "Moviepy - Done !\n",
      "Moviepy - video ready temp_Exploring the streets of Karaköy in Istanbul.mp4\n"
     ]
    }
   ],
   "source": [
    "import yt_dlp\n",
    "import moviepy.editor as mp\n",
    "import os\n",
    "\n",
    "url = 'https://www.youtube.com/watch?v=iDCoE-unmTw'\n",
    "\n",
    "ydl_opts = {\n",
    "    'format': 'bestvideo[ext=mp4][height<=1080]+bestaudio[ext=m4a]/best[ext=mp4][height<=1080]',\n",
    "    'outtmpl': '%(title)s.%(ext)s',\n",
    "    'ffmpeg_location': 'D:/APP/ImageMagick/ImageMagick-7.1.0-Q16-HDRI/ffmpeg.exe',\n",
    "}\n",
    "\n",
    "with yt_dlp.YoutubeDL(ydl_opts) as ydl:\n",
    "    info_dict = ydl.extract_info(url, download=True)\n",
    "    title = ydl.prepare_filename(info_dict)\n",
    "\n",
    "# Load the downloaded video using moviepy\n",
    "video = mp.VideoFileClip(title)\n",
    "\n",
    "# Set the start and end times for the trim (in seconds)\n",
    "start_time = 10\n",
    "end_time = 200\n",
    "\n",
    "# Trim the video\n",
    "trimmed_video = video.subclip(start_time, end_time)\n",
    "\n",
    "# Save the trimmed video to a temporary file\n",
    "temp_title = f\"temp_{title}\"\n",
    "trimmed_video.write_videofile(temp_title)\n",
    "\n",
    "# Close the video files to release resources\n",
    "video.close()\n",
    "trimmed_video.close()\n",
    "\n",
    "# Remove the original video file\n",
    "os.remove(title)\n",
    "\n",
    "# Rename the temporary file to the original file name\n",
    "os.rename(temp_title, title)\n",
    "\n",
    "\n"
   ]
  },
  {
   "cell_type": "code",
   "execution_count": 8,
   "id": "a26e2a06",
   "metadata": {},
   "outputs": [],
   "source": [
    "from pathlib import Path\n",
    "import cv2\n",
    "\n",
    "imagepath = Path('C:/Users/itsfr/Desktop/Skill Class/Joris/09-skillreport/images')  # Replace 'images' with the desired directory path\n",
    "imagepath.mkdir(parents=True, exist_ok=True)\n",
    "\n",
    "cap = cv2.VideoCapture(title)\n",
    "frame_no = 0\n",
    "while cap.isOpened():\n",
    "    ret, frame = cap.read()\n",
    "    \n",
    "    if not ret:\n",
    "        break\n",
    "    \n",
    "    if frame_no % 5 == 0:\n",
    "        target = str(imagepath / f'{frame_no}.jpg')\n",
    "        cv2.imwrite(target, frame)\n",
    "    \n",
    "    frame_no += 1\n",
    "\n",
    "cap.release()\n"
   ]
  },
  {
   "cell_type": "code",
   "execution_count": null,
   "id": "6e13d3c9",
   "metadata": {},
   "outputs": [],
   "source": []
  }
 ],
 "metadata": {
  "kernelspec": {
   "display_name": "Python 3 (ipykernel)",
   "language": "python",
   "name": "python3"
  },
  "language_info": {
   "codemirror_mode": {
    "name": "ipython",
    "version": 3
   },
   "file_extension": ".py",
   "mimetype": "text/x-python",
   "name": "python",
   "nbconvert_exporter": "python",
   "pygments_lexer": "ipython3",
   "version": "3.9.12"
  }
 },
 "nbformat": 4,
 "nbformat_minor": 5
}
