{
  "nbformat": 4,
  "nbformat_minor": 0,
  "metadata": {
    "colab": {
      "provenance": [],
      "mount_file_id": "17IaSmvCWoA9D2ScK-dOK44GCIVlMghmm",
      "authorship_tag": "ABX9TyMRteZAKjopkSvb1n/jE9Nl",
      "include_colab_link": true
    },
    "kernelspec": {
      "name": "python3",
      "display_name": "Python 3"
    },
    "language_info": {
      "name": "python"
    }
  },
  "cells": [
    {
      "cell_type": "markdown",
      "metadata": {
        "id": "view-in-github",
        "colab_type": "text"
      },
      "source": [
        "<a href=\"https://colab.research.google.com/github/RC11-SkillsClass2022-23/XingFeng/blob/main/XingFengVideoFeatureHomework.ipynb\" target=\"_parent\"><img src=\"https://colab.research.google.com/assets/colab-badge.svg\" alt=\"Open In Colab\"/></a>"
      ]
    },
    {
      "cell_type": "code",
      "source": [
        "import requests\n",
        "from bs4 import BeautifulSoup\n",
        "import urllib.request\n",
        "import re"
      ],
      "metadata": {
        "id": "Mstkg7yUwG25"
      },
      "execution_count": 2,
      "outputs": []
    },
    {
      "cell_type": "code",
      "source": [
        "archive_url = \"https://ubu.com/film/\""
      ],
      "metadata": {
        "id": "iQLF7QBqy_q8"
      },
      "execution_count": 3,
      "outputs": []
    },
    {
      "cell_type": "code",
      "source": [
        "def get_sites(url):\n",
        "  sites = []\n",
        "  html_page = urllib.request.urlopen(url)\n",
        "  soup = BeautifulSoup(html_page, \"html.parser\")\n",
        "  for link in soup.findAll('a'):\n",
        "    site = link.get('href')\n",
        "    # the main page is not an artist\n",
        "    index = re.search(\"index.html$\", site)\n",
        "    root = re.search(\"^[.][.]/\", site)\n",
        "    if not index and not root:\n",
        "      sites.append(site)\n",
        "  return sites"
      ],
      "metadata": {
        "id": "6P5U-gZEy_yk"
      },
      "execution_count": 4,
      "outputs": []
    },
    {
      "cell_type": "code",
      "source": [
        "def get_video_links(url):\n",
        "  #create response object\n",
        "  r = requests.get(url)\n",
        "  # move up 2 folders in the URL\n",
        "  url = url[:url.rfind('/')]\n",
        "  url = url[:url.rfind('/')]\n",
        "  #create beautiful-soup object\n",
        "  soup = BeautifulSoup(r.content,'html5lib')\n",
        "  #find all links on web-page\n",
        "  links = soup.findAll('a')\n",
        "  #filter the link ending with .mp4\n",
        "  video_links = [url + link['href'][2:] for link in links if link['href'].endswith('mp4')]\n",
        " \n",
        "  return video_links"
      ],
      "metadata": {
        "id": "V7Fb7NMEzANZ"
      },
      "execution_count": 5,
      "outputs": []
    },
    {
      "cell_type": "code",
      "source": [
        "def download_video_series(video_links, directory):\n",
        "  # iterate through all links in video_links\n",
        "  # and download them one by one\n",
        "  for link in video_links:\n",
        "    # obtain filename by splitting url and getting last string\n",
        "    file_name = link.split('/')[-1]\n",
        "    print (\"Downloading file:%s\"%file_name)\n",
        "\n",
        "    try:\n",
        "      #create response object\n",
        "      r = requests.get(link, stream = True)\n",
        "\n",
        "      #download started\n",
        "      with open(os.path.join(directory, file_name), 'wb') as f:\n",
        "        for chunk in r.iter_content(chunk_size = 1024*1024):\n",
        "          if chunk:\n",
        "            f.write(chunk)\n",
        "\n",
        "      print (\"%s downloaded!\\n\"%file_name)\n",
        "    except:\n",
        "      # ConnectionRefusedError or URLError \n",
        "      print(\"Failed to download file due to an error.\")"
      ],
      "metadata": {
        "id": "R7hioZcOzIvj"
      },
      "execution_count": 6,
      "outputs": []
    },
    {
      "cell_type": "code",
      "source": [
        "artist_sites = get_sites(archive_url + \"index.html\")\n",
        "print(artist_sites)"
      ],
      "metadata": {
        "colab": {
          "base_uri": "https://localhost:8080/"
        },
        "id": "5hivAkr3zPOb",
        "outputId": "3a6e30f1-c21a-4cfa-d6e6-ecd8bbe5ee3d"
      },
      "execution_count": 7,
      "outputs": [
        {
          "output_type": "stream",
          "name": "stdout",
          "text": [
            "['abidin.html', 'abramovic.html', 'acconci.html', 'acker.html', 'abdoh.html', 'adachi.html', 'adbusters.html', 'ader.html', 'afsah.html', 'agahbanaei.html', 'agee.html', 'ahtila.html', 'ahwesh.html', 'aina.html', 'aitken.html', 'akhmatova.html', 'habib-allah.html', 'alsharif.html', 'almaria.html', 'aleinikov.html', 'alferi.html', 'abu-ali.html', 'alive.html', 'allora.html', 'almond.html', 'althamer.html', 'alys.html', 'amado.html', 'amaouche.html', 'amiralay.html', 'aaf.html', 'amis_don.html', 'amon_duul.html', 'anand.html', 'andersen.html', 'anderson_l.html', 'andriessen.html', 'anger.html', 'angerame.html', 'ant_farm.html', 'antin.html', 'elsken_appel.html', 'araki.html', 'arakawa.html', 'arakawa_shusaku.html', 'arbid.html', 'arcangel.html', 'arledge.html', 'ecart.html', 'arnold.html', 'art-language.html', 'artensemble.html', 'artaud.html', 'avaf.html', 'ashley.html', 'askevold.html', 'assayas.html', 'astore.html', 'atkins.html', 'attar.html', 'attia.html', 'auder.html', 'autant.html', 'averty.html', 'ayari.html', 'bachardy.html', 'bacon.html', 'bag.html', 'bahri.html', 'bailey_david.html', 'bailey.html', 'baillie.html', 'bal-blanc.html', 'ballenger.html', 'baldessari.html', 'baldwin.html', 'balerdi.html', 'ballard.html', 'banksy.html', 'bauhaus.html', 'bargellini.html', 'barlow.html', 'barney.html', 'barrett.html', 'barry_j.html', 'barry.html', 'barthes.html', 'bartlett.html', 'barton.html', 'basinski.html', 'basquiat.html', 'bataille.html', 'batniji.html', 'baudelaire.html', 'baudrillard.html', 'bauer.html', 'bayrle.html', 'alchemists.html', 'beaton.html', 'beatty.html', 'beaudin.html', 'beauvais.html', 'beauvoir.html', 'beavers.html', 'becher.html', 'beck_robert.html', 'beck.html', 'beckman.html', 'beckett_adam.html', 'beckett.html', 'corbijn.html', 'beecroft.html', 'behrman.html', 'behrman.html', 'beiguelman.html', 'beloff.html', 'beloufa.html', 'berio.html', 'ben-ner.html', 'bender.html', 'benglis.html', 'benjamin.html', 'benning_j.html', 'benning_s.html', 'berger.html', 'berman.html', 'bernabo.html', 'bernadette.html', 'berry.html', 'bertoglio.html', 'bertoia.html', 'berwick.html', 'beuys.html', 'bey.html', 'bill.html', 'bissett.html', 'biswas.html', 'blackwood.html', 'black-panthers.html', 'blake.html', 'blasco.html', 'blightman.html', 'bogawa.html', 'boltanski.html', 'bordowitz.html', 'boredoms.html', 'borges.html', 'bornstein.html', 'borowczyk.html', 'bouabdellah.html', 'bourdin.html', 'bowles.html', 'brainard.html', 'brakhage.html', 'brambilla.html', 'branca.html', 'branca_glenn.html', 'brancusi.html', 'brand.html', 'breakwell.html', 'brecht_bertolt.html', 'brecht.html', 'breer.html', 'bressane.html', 'breuning.html', 'bridget.html', 'brigataes.html', 'bright.html', 'brzozowska.html', 'broughton.html', 'bhqf.html', 'bruce.html', 'bruch.html', 'bruggermann.html', 'brus.html', 'buckingham.html', 'bukowski.html', 'burckhardt.html', 'burden.html', 'burian.html', 'burnett.html', 'burroughs.html', 'bute.html', 'butor.html', 'byars.html', 'byrne.html', 'byrne_g.html', 'cage.html', 'calder.html', 'caldwell.html', 'celan.html', 'fluxfilm30_cale.html', 'camplin.html', 'candeias.html', 'cantor.html', 'carasco.html', 'cardiff.html', 'cardoso.html', 'carne.html', 'carpi.html', 'cattelan.html', 'celine.html', 'cendrars.html', 'cha.html', 'chagall.html', 'chalayan.html', 'chambers.html', 'chamberlain.html', 'chamberlain_wynn.html', 'chan.html', 'chang.html', 'chapman.html', 'char.html', 'cheang.html', 'chen.html', 'chernysheva.html', 'cherry.html', 'chetwynd.html', 'child.html', 'chomon.html', 'chomette.html', 'chong.html', 'chopin.html', 'clark.html', 'clark_larry.html', 'cc.html', 'transgression.html', 'ciocci.html', 'clah.html', 'clair.html', 'clampett.html', 'clarke.html', 'claus.html', 'close.html', 'closky.html', 'cobbing.html', 'cocteau.html', 'cohen.html', 'cohl.html', 'cointet.html', 'cokes.html', 'colab.html', 'colen.html', 'coleman.html', 'coleman_ornette.html', 'collins.html', 'condo.html', 'conner.html', 'conrad.html', 'cooper.html', 'coppola_horacio.html', 'corbijn.html', 'corbusier.html', 'corke.html', 'cornell.html', 'cortazar.html', 'courant.html', 'courant.html', 'crasset.html', 'cravan.html', 'creed.html', 'croatian.html', 'crosswaite.html', 'cutler.html', 'curtis.html', 'cytter.html', 'czech.html', 'dada_1971.html', 'dahlberg.html', 'dailey.html', 'dali.html', 'dance-with-camera.html', 'dash.html', 'davey.html', 'davis_d.html', 'davis_irene.html', 'dacorte.html', 'deantonio.html', 'debeer.html', 'de_hirsch.html', 'demaria.html', 'denike.html', 'depalma.html', 'demaria.html', 'dean.html', 'debord.html', 'desfons.html', 'delany.html', 'delaunay.html', 'deling.html', 'delvoye.html', 'demand.html', 'demy.html', 'denny.html', 'deren.html', 'derrico.html', 'derrida.html', 'deslaw.html', 'dam.html', 'devuax.html', 'dhanifu.html', 'dick.html', 'dick_v.html', 'dijkstra.html', 'djemai.html', 'djurberg.html', 'dodal.html', 'dodge_kahn.html', 'donebauer.html', 'donegan.html', 'douglas.html', 'draeger.html', 'drot.html', 'duchamp.html', 'dubuffet.html', 'dulac.html', 'duncan.html', 'dursel.html', 'duvivier.html', 'dwoskin.html', 'dymon.html', 'dzama.html', 'groupe_vertov.html', 'early.html', 'ecart.html', 'edmondez.html', 'elsken.html', 'elyakim.html', 'emin.html', 'emshwiller.html', 'eno.html', 'epstein.html', 'eriksson.html', 'ernst_helge.html', 'ernst.html', 'eros.html', 'ertl.html', 'evans.html', 'export.html', 'ezawa.html', 'fadhil.html', 'fahlstrom.html', 'fairhurst.html', 'fairthorne.html', 'fanaka.html', 'farouk.html', 'farocki_gefangnisbilder.html', 'farrokhzad.html', 'fast.html', 'fatmi.html', 'fei.html', 'feldman.html', 'kitchen_lewis.html', 'ferrari.html', 'filho.html', 'filliou.html', 'finer.html', 'finley.html', 'fischli.html', 'fischer.html', 'fisher.html', 'fitterman.html', 'fitz.html', 'flanagan.html', 'fleisch.html', 'fluxfilm.html', 'fluxus_1962.html', 'fletcher.html', 'floyer.html', 'fontaine.html', 'ford.html', 'foreman.html', 'forensic.html', 'forgacs.html', '40.html', 'lenteng.html', 'four_walls.html', 'fowler.html', 'foucault.html', 'frampton.html', 'fraser.html', 'frazier_jacqueline.html', 'frazier.html', 'freed.html', 'freeland.html', 'fric.html', 'friedman.html', 'friedrich.html', 'fudong.html', 'fuller.html', 'fung.html', 'gaillard.html', 'averty_gainsbourg.html', 'ganahl.html', 'gander.html', 'garcia.html', 'gargash.html', 'gaskell.html', 'gates.html', 'gaudi.html', 'gehr.html', 'general_idea.html', 'genet.html', 'gerima.html', 'herbst.html', 'giacometti.html', 'gianikian.html', 'gibson.html', 'gidal.html', 'gilbreth.html', 'gillick.html', 'giorno.html', 'ginsberg.html', 'gg.html', 'girard.html', 'glabicki.html', 'gladsjo.html', 'glass.html', 'godard.html', 'goday.html', 'gold.html', 'goldin.html', 'golestan.html', 'goldsmith.html', 'goldstein.html', 'golia.html', 'gorani.html', 'gordon_d.html', 'gordon.html', 'gould.html', 'graham.html', 'graham_rodney.html', 'granat.html', 'gray.html', 'greenaway.html', 'grigorescu.html', 'grimonprez.html', 'groen.html', 'grooms.html', 'gropius.html', 'grotowski.html', 'medvedkine.html', 'consonanza.html', 'gruyter.html', 'guattari.html', 'guggenheim.html', 'gulim.html', 'guston.html', 'gutai.html', 'guymer.html', 'gysin.html', 'habib.html', 'hadid.html', 'hadzihalilovic.html', 'hafez.html', 'halford.html', 'halbert', 'hall.html', 'halley.html', 'hamdan.html', 'hammer.html', 'hammid.html', 'hammons.html', 'hanak.html', 'hanlon.html', 'hardy.html', 'harrington.html', 'harris.html', 'harris_trent.html', 'hatoum.html', 'von-hausswolff.html', 'haynes.html', 'heartfield.html', 'hege.html', 'her_noise.html', 'hebert.html', 'herring_nathan.html', 'herbst.html', 'heliczer.html', 'henrot.html', 'henry.html', 'hiredcenter.html', 'higgie.html', 'hill.html', 'hills.html', 'hindle.html', 'hirsh.html', 'hirschhorn.html', 'hirst.html', 'hockney.html', 'hodell.html', 'hoffman.html', 'holler.html', 'holmqvist.html', 'holt.html', 'home.html', 'hong.html', 'hopinka.html', 'hopkins.html', 'horn.html', 'horowitz.html', 'hovinbole.html', 'hovsepian.html', 'hsieh.html', 'hubbard.html', 'hughes.html', 'hughes_t.html', 'hugo.html', 'hulten.html', 'hura.html', 'hutton.html', 'hyunjin.html', 'igwe.html', 'iimura.html', 'influx.html', 'iloputaife.html', 'irwin_group.html', 'irwin.html', 'isou.html', 'isherwood.html', 'ivens.html', 'jacir.html', 'jacobs.html', 'jacques.html', 'jafa.html', 'james.html', 'jamie.html', 'jankowski.html', 'jarman.html', 'jarry.html', 'jenkins.html', 'jodi.html', 'johns.html', 'johnson_bs.html', 'lkj.html', 'johnson_rashid.html', 'johnson.html', 'joselit.html', 'jonas.html', 'jones_m.henry.html', 'jonouchi.html', 'jordan.html', 'joyce.html', 'juku.html', 'julien.html', 'just.html', 'kac.html', 'kagel.html', 'kahn_louis.html', 'kahn.html', 'kameli.html', 'kamler.html', 'kantor.html', 'kapoor.html', 'kaprow.html', 'karolinski.html', 'kast.html', 'kaufman.html', 'keller.html', 'kelley.html', 'kerkhof.html', 'kerouac.html', 'kern.html', 'keuken.html', 'khalili.html', 'khatibi.html', 'khodr.html', 'kilimnik.html', 'kim_hj.html', 'kim_kulim.html', 'kim.html', 'kimiavi.html', 'kimsooja.html', 'kipnis.html', 'kirby.html', 'kirk.html', 'kirsanov.html', 'kitchen.html', 'kjartansson.html', 'klein.html', 'klitclique.html', 'klopfenstein.html', 'kluge.html', 'knowles.html', 'koolhaas.html', 'koh.html', 'kur.html', 'koester.html', 'kowalski.html', 'kramer.html', 'kraus.html', 'kren.html', 'kriwet.html', 'krocker.html', 'kruger.html', 'krystufek.html', 'kubelka.html', 'kubota.html', 'kucera.html', 'kucia.html', 'kudlacek.html', 'kusama.html', 'kurtz.html', 'manitoba.html', 'la_rebellion.html', 'labruce.html', 'lacan.html', 'lacuesta.html', 'lamas.html', 'lambie.html', 'lamelas.html', 'lamorisse.html', 'lampert.html', 'landow.html', 'lang.html', 'lane.html', 'larkin.html', 'latham.html', 'laurette.html', 'lavey.html', 'lassnig.html', 'lawder.html', 'landow.html', 'laser.html', 'legrice.html', 'leccia.html', 'lebel.html', 'leckey.html', 'lee_hangjun.html', 'lee.html', 'lefebvre.html', 'leggett.html', 'leger.html', 'lehovec.html', 'lek.html', 'lelouch.html', 'lemaitre.html', 'lemaitre_s.html', 'lenya.html', 'leslie.html', 'leth.html', 'levine.html', 'levitt.html', 'leyda.html', 'leye.html', 'ligeti.html', 'ligon.html', 'lin.html', 'lin_tao.html', 'lingford.html', 'living.html', 'lockhart.html', 'loktev.html', 'lommel.html', 'longo.html', 'lowman.html', 'lucier.html', 'lucier_mary.html', 'lumiere.html', 'lunberry.html', 'lunch.html', 'lye.html', 'lynch.html', 'mbarek.html', 'macuga.html', 'maas.html', 'maclow.html', 'maciunas.html', 'mack_lh.html', 'maderna.html', 'maghsoudlou.html', 'maier.html', 'makarah.html', 'maljkovic.html', 'malullah.html', 'mambety.html', 'mancini.html', 'mack.html', 'maderna.html', 'mangolte.html', 'manovich.html', 'mann.html', 'manupelli.html', 'mapplethorpe.html', 'marclay.html', 'marco.html', 'marievic.html', 'mark.html', 'marker.html', 'markopoulos.html', 'marten.html', 'marziano.html', 'mauri.html', 'matisse.html', 'matsui.html', 'matsumoto.html', 'gmc.html', 'mautner.html', 'mayakovsky.html', 'mccaffery.html', 'mccall.html', 'mccarthy.html', 'mccoy.html', 'mcewen.html', 'mcelheny.html', 'mckay.html', 'mclaren_malcolm.html', 'mclaren.html', 'mcluhan.html', 'mcnamara.html', 'mcqueen.html', 'mead.html', 'meckseper.html', 'meese.html', 'meinhof.html', 'meireles.html', 'melhus.html', 'melly.html', 'mendieta.html', 'menken.html', 'metzger.html', 'metzner.html', 'michaux.html', 'milgram.html', 'miller.html', 'miller_john.html', 'miller_larry.html', 'minh.html', 'minter.html', 'mik.html', 'mishima.html', 'mitry.html', 'moerman.html', 'mohaiemen.html', 'moholy.html', 'molska.html', 'momus.html', 'monnet.html', 'montano.html', 'montez.html', 'moon.html', 'mori.html', 'moritsugu.html', 'morris.html', 'morris_s.html', 'morris_simon.html', 'mosset.html', 'moulett.html', 'mourao.html', 'mouris.html', 'moffatt.html', 'moorman.html', 'movin.html', 'malullah.html', 'moullet.html', 'moulton.html', 'mowoso.html', 'mroue.html', 'muehl.html', 'mullican.html', 'mulvey.html', 'mumma.html', 'munoz.html', 'murakami.html', 'murata.html', 'aether.html', 'mutu.html', 'muybridge.html', 'barbarian.html', 'myers.html', 'nakadate.html', 'namuth.html', 'nancarrow.html', 'nares.html', 'narkevicius.html', 'nashat.html', 'nashashibi.html', 'nath.html', 'nauman.html', 'negativland.html', 'nekes.html', 'nelson.html', 'neshat.html', 'neuhaus.html', 'neuenschwander.html', 'tajima.html', 'nguyen.html', 'niblock.html', 'nichol.html', 'nicolas.html', 'nicolson.html', 'niermann.html', 'nihilist.html', 'nitsch.html', 'noe.html', 'nordine.html', 'noureddine.html', 'oneill.html', 'obayashi.html', 'obrist.html', 'odenbach.html', 'oho.html', 'ok-hee.html', 'okiishi.html', 'oldenburg.html', 'oliveira.html', 'oliveros.html', 'omar.html', 'ondaatje.html', 'ono.html', 'oppenheim.html', 'montanez-ortiz.html', 'ostertag.html', 'ottinger.html', 'oursler.html', 'p-orridge.html', 'ozkaya.html', 'padros.html', 'paik.html', 'painleve.html', 'palestine.html', 'paper_paolozzi.html', 'paper_tiger.html', 'paperrad.html', 'parajanov.html', 'parreno.html', 'partch.html', 'pasolini.html', 'pau.html', 'payne-relph.html', 'pearlstein.html', 'peixoto.html', 'peleshian.html', 'pendelton.html', 'plu.html', 'perec.html', 'pettibon.html', 'peterson.html', 'peyton.html', 'pfahler.html', 'pfeiffer.html', 'pfeiffer_walter.html', 'place.html', 'philibert.html', 'phillips_r.html', 'phillips.html', 'picasso.html', 'pietroiusti.html', 'pilson.html', 'pindell.html', 'pinter.html', 'peixoto.html', 'poe.html', 'polk.html', 'polke.html', 'namuth_pollock.html', 'pope.html', 'pound.html', 'gladsjo_pranks.html', 'praunheim.html', 'price_e.html', 'price_l.html', 'price.html', 'prince.html', 'protazanov.html', 'proust.html', 'pruitt_early.html', 'pucill.html', 'raaijmakers.html', 'raban.html', 'radigue.html', 'rafman.html', 'rahnema.html', 'raindance.html', 'rainer.html', 'raqs.html', 'rauschenberg.html', 'ratte.html', 'raven.html', 'ray.html', 'raysse.html', 'al_error.html', 'rebet.html', 'recchion.html', 'reed_lou.html', 'reeves_dan.html', 'reich.html', 'reeves.html', 'residents.html', 'reijseger.html', 'resistances_africa.html', 'restrepo.html', 'reyes.html', 'rhodes.html', 'mies.html', 'ribot.html', 'richter_gerhard.html', 'richter.html', 'rice.html', 'riggs.html', 'riley.html', 'rimbaud.html', 'rimmer.html', 'rist.html', 'rivers.html', 'robbe-grillet.html', 'robbins.html', 'rooks.html', 'roos.html', 'rose_jon.html', 'rose.html', 'rose_rachel.html', 'rosen.html', 'rosefeldt.html', 'rosenfeld.html', 'rosler.html', 'rossi.html', 'rondinone.html', 'rothlisberger.html', 'rottenberg.html', 'roubaud.html', 'rouch.html', 'rubin.html', 'rubin_jerry.html', 'ruby.html', 'ruhm.html', 'ruilova.html', 'ruitenbeek.html', 'ruiz.html', 'ruppersberg.html', 'russell_arthur.html', 'russell_ken.html', 'ruttmann.html', 'sachs_lynne.html', 'sachs.html', 'sackner_concrete.html', 'sackner.html', 'sabahi.html', 'sadeghi.html', 'phalle.html', 'salloum.html', 'salmon.html', 'sanborn.html', 'sansour.html', 'sannes.html', 'sarmento.html', 'saroyan.html', 'sasamoto.html', 'sasnal.html', 'satie.html', 'satterwhite.html', 'sawa.html', 'schaefer_j.html', 'schifano.html', 'schippers.html', 'schlingensief.html', 'schneemann.html', 'schorr.html', 'schroeter.html', 'schwitters.html', 'scully.html', 'sedgwick.html', 'sedira.html', 'segalove.html', 'serramm.html', 'serra.html', 'sesic.html', 'wow_avant.html', 'shahbazi.html', 'shaker.html', 'shariffe.html', 'sharits.html', 'sharrock.html', 'shaer.html', 'shah.html', 'shaw.html', 'shawky.html', 'shedden.html', 'sheen.html', 'sherman.html', 'sherman_stuart.html', 'sherwin.html', 'shirdel.html', 'shirt.html', 'shonibare.html', 'shrigley.html', 'signer.html', 'sikander.html', 'sillman.html', 'silver.html', 'simmons.html', 'simon_jason.html', 'simon.html', 'simonds.html', 'simpson.html', 'singer.html', 'si.html', 'sjolander.html', 'fatboy-slim_weapon-of-choice.html', 'smith-a.html', 'smith_harry.html', 'smith_jack.html', 'smith_john.html', 'smith_kiki.html', 'smith_mike.html', 'starling.html', 'smith_stewart.html', 'smithson.html', 'street.html', 'snow.html', 'snyder.html', 'soe.html', 'soderbergh.html', 'solterbeck.html', 'sonicyouth.html', 'sonnier.html', 'sontag.html', 'sokurov.html', 'sollfrank.html', 'soth.html', 'soukaz.html', 'spaulings.html', 'spk.html', 'sprinkle.html', 'stallones.html', 'starewicz.html', 'stark.html', 'stein.html', 'steiner.html', 'steinkamp.html', 'steyerl.html', 'stickrod.html', 'stidworthy.html', 'stockhausen.html', 'strand_chick.html', 'strand.html', 'stratman.html', 'straub.html', 'strauss.html', 'strom.html', 'streuli.html', 'strong.html', 'sturtevant.html', 'superflex.html', 'srl.html', 'sound_syntax.html', 'tait.html', 'tajima.html', 'takashi.html', 'tambellini.html', 'tan.html', 'tanaami.html', 'tartaglia.html', 'taylor.html', 'taylor_e.html', 'tw.html', 'higgie.html', 'terayama.html', 'teshigahara.html', 'thater.html', 'thompson.html', 'thoms.html', 'thornton.html', 'throbbing.html', 'vantieghem.html', 'tillmans.html', 'tinguely.html', 'tiravanija.html', 'tone.html', 'toop.html', 'toufic.html', 'taj.html', 'trecartin.html', 'treleaven.html', 'tribe.html', 'trier.html', 'trockel.html', 'tscherkassky.html', 'tschumi.html', 'tuxedomoon.html', 'tyranny.html', 'tzara.html', 'ulay.html', 'ulive.html', 'urbano-ragazzi.html', 'usco.html', 'vanderbeek.html', 'varda.html', 'vautier.html', 'varese.html', 'vasulka.html', 'veloso.html', 'warhol_velvet.html', 'vertov_dziga.html', 'groupe_vertov.html', 'vian.html', 'videofreex.html', 'vic.html', 'vidokle.html', 'vienet.html', 'vierkant.html', 'vienna_actionists.html', 'visconti.html', 'visser.html', 'vorkapich.html', 'vreeland.html', 'walker.html', 'wasko.html', 'watts.html', 'weber.html', 'weerasethakul.html', 'wegman.html', 'weibel.html', 'wiegmann_adaptive-lines.html', 'weinberg.html', 'welling.html', 'warhol.html', 'watson.html', 'wearing.html', 'wedemeyer.html', 'weegee.html', 'weems.html', 'wegman.html', 'weiner.html', 'wenders.html', 'went.html', 'wei.html', 'weiss.html', 'welsby.html', 'welles.html', 'weschler.html', 'west.html', 'wheaton.html', 'wgbh_video.html', 'white_iverson.html', 'whitehead.html', 'wieland.html', 'wilets.html', 'wilke.html', 'wiley.html', 'williams_c.html', 'williams.html', 'williamson.html', 'wilsona.html', 'wilson_jane-louise.html', 'wilson.html', 'wilson_ra.html', 'wittgenstein.html', 'wittmann.html', 'wojnarowicz.html', 'wolman.html', 'wolfson.html', 'wood.html', 'wood_harrison.html', 'woodbury.html', 'wooster.html', 'workman.html', 'wu.html', 'wurm.html', 'xenakis.html', 'yellin.html', 'yippie.html', 'yokoo.html', 'yonemoto.html', 'blackwave.html', 'young.html', 'zev.html', 'zaatari.html', 'zahradnicek.html', 'zedd.html', 'xeno.html', 'zizek.html', 'zorn.html', 'zmijewski.html', 'zittel.html', 'zulueta.html']\n"
          ]
        }
      ]
    },
    {
      "cell_type": "code",
      "source": [
        "for artist_site in artist_sites[-10:]:\n",
        "  print(archive_url + artist_site)\n",
        "  film_sites = get_sites(archive_url + artist_site)\n",
        "  for film_site in film_sites:\n",
        "    #getting all video links\n",
        "    video_links = get_video_links(archive_url + film_site)\n",
        "\n",
        "    #download all videos\n",
        "    download_video_series(video_links, '/content/drive/MyDrive/SkillWorkshop/ScrapedVideo')"
      ],
      "metadata": {
        "colab": {
          "base_uri": "https://localhost:8080/"
        },
        "id": "cLeTUrXTzPRI",
        "outputId": "64823e41-29de-4095-8492-aa2408c756fc"
      },
      "execution_count": 8,
      "outputs": [
        {
          "output_type": "stream",
          "name": "stdout",
          "text": [
            "https://ubu.com/film/zev.html\n",
            "https://ubu.com/film/zaatari.html\n",
            "https://ubu.com/film/zahradnicek.html\n",
            "Downloading file:Zahradnicek-Cenek_Ruce-v-utery_1935.mp4\n",
            "Failed to download file due to an error.\n",
            "https://ubu.com/film/zedd.html\n",
            "Downloading file:Zedd-Nick_geek-maggot-bingo_1983.mp4\n",
            "Failed to download file due to an error.\n",
            "Downloading file:Zedd-Nick-and-Kern-Richard_Thrust-In-Me_1985.mp4\n",
            "Failed to download file due to an error.\n",
            "Downloading file:Zedd.Nick.Police.State.1987.720p.DVDRip.mp4\n",
            "Failed to download file due to an error.\n",
            "Downloading file:Zedd-Nick_TheDeathofMuffinhead.mp4\n",
            "Failed to download file due to an error.\n",
            "Downloading file:Zedd.Nick.Electra.Elf.The.Beginning.2005.mp4\n",
            "Failed to download file due to an error.\n",
            "https://ubu.com/film/xeno.html\n",
            "https://ubu.com/film/zizek.html\n",
            "https://ubu.com/film/zorn.html\n",
            "https://ubu.com/film/zmijewski.html\n",
            "Downloading file:Zmijewski-Artur_The-Game-of-Tag.mp4\n",
            "Failed to download file due to an error.\n",
            "Downloading file:Zmijewski-Artur_Singing-Lesson-Our-Songbook.mp4\n",
            "Failed to download file due to an error.\n",
            "Downloading file:Zmijewski-Artur_80064_2004.mp4\n",
            "Failed to download file due to an error.\n",
            "Downloading file:Althamer-Pawel_Do-It-Yourself_2004.mp4\n",
            "Failed to download file due to an error.\n",
            "Downloading file:Zmijewski-Artur_Them_2007.mp4\n",
            "Failed to download file due to an error.\n",
            "Downloading file:Zmijewski-Artur_Between-Us_2009.mp4\n",
            "Failed to download file due to an error.\n",
            "Downloading file:Zmijewski-Artur_Democracies_2009.mp4\n",
            "Failed to download file due to an error.\n",
            "https://ubu.com/film/zittel.html\n",
            "https://ubu.com/film/zulueta.html\n",
            "Downloading file:Zulueta-Ivan_Leo-es-pardo_1976.mp4\n",
            "Failed to download file due to an error.\n"
          ]
        }
      ]
    },
    {
      "cell_type": "code",
      "source": [
        "!pip install --upgrade moviepy"
      ],
      "metadata": {
        "colab": {
          "base_uri": "https://localhost:8080/"
        },
        "id": "tuY4j8wuy9Tr",
        "outputId": "83737f3d-bea5-4735-e42b-d83ddebae4c2"
      },
      "execution_count": 9,
      "outputs": [
        {
          "output_type": "stream",
          "name": "stdout",
          "text": [
            "Looking in indexes: https://pypi.org/simple, https://us-python.pkg.dev/colab-wheels/public/simple/\n",
            "Requirement already satisfied: moviepy in /usr/local/lib/python3.8/dist-packages (0.2.3.5)\n",
            "Collecting moviepy\n",
            "  Downloading moviepy-1.0.3.tar.gz (388 kB)\n",
            "\u001b[K     |████████████████████████████████| 388 kB 5.1 MB/s \n",
            "\u001b[?25hRequirement already satisfied: decorator<5.0,>=4.0.2 in /usr/local/lib/python3.8/dist-packages (from moviepy) (4.4.2)\n",
            "Requirement already satisfied: tqdm<5.0,>=4.11.2 in /usr/local/lib/python3.8/dist-packages (from moviepy) (4.64.1)\n",
            "Requirement already satisfied: requests<3.0,>=2.8.1 in /usr/local/lib/python3.8/dist-packages (from moviepy) (2.23.0)\n",
            "Collecting proglog<=1.0.0\n",
            "  Downloading proglog-0.1.10-py3-none-any.whl (6.1 kB)\n",
            "Requirement already satisfied: numpy>=1.17.3 in /usr/local/lib/python3.8/dist-packages (from moviepy) (1.21.6)\n",
            "Requirement already satisfied: imageio<3.0,>=2.5 in /usr/local/lib/python3.8/dist-packages (from moviepy) (2.9.0)\n",
            "Collecting imageio_ffmpeg>=0.2.0\n",
            "  Downloading imageio_ffmpeg-0.4.7-py3-none-manylinux2010_x86_64.whl (26.9 MB)\n",
            "\u001b[K     |████████████████████████████████| 26.9 MB 1.2 MB/s \n",
            "\u001b[?25hRequirement already satisfied: pillow in /usr/local/lib/python3.8/dist-packages (from imageio<3.0,>=2.5->moviepy) (7.1.2)\n",
            "Requirement already satisfied: certifi>=2017.4.17 in /usr/local/lib/python3.8/dist-packages (from requests<3.0,>=2.8.1->moviepy) (2022.9.24)\n",
            "Requirement already satisfied: urllib3!=1.25.0,!=1.25.1,<1.26,>=1.21.1 in /usr/local/lib/python3.8/dist-packages (from requests<3.0,>=2.8.1->moviepy) (1.24.3)\n",
            "Requirement already satisfied: idna<3,>=2.5 in /usr/local/lib/python3.8/dist-packages (from requests<3.0,>=2.8.1->moviepy) (2.10)\n",
            "Requirement already satisfied: chardet<4,>=3.0.2 in /usr/local/lib/python3.8/dist-packages (from requests<3.0,>=2.8.1->moviepy) (3.0.4)\n",
            "Building wheels for collected packages: moviepy\n",
            "  Building wheel for moviepy (setup.py) ... \u001b[?25l\u001b[?25hdone\n",
            "  Created wheel for moviepy: filename=moviepy-1.0.3-py3-none-any.whl size=110742 sha256=9d5370494d51f3b02817ef029de9147cce25aa576096089e61fcb2eefd1b3014\n",
            "  Stored in directory: /root/.cache/pip/wheels/e4/a4/db/0368d3a04033da662e13926594b3a8cf1aa4ffeefe570cfac1\n",
            "Successfully built moviepy\n",
            "Installing collected packages: proglog, imageio-ffmpeg, moviepy\n",
            "  Attempting uninstall: moviepy\n",
            "    Found existing installation: moviepy 0.2.3.5\n",
            "    Uninstalling moviepy-0.2.3.5:\n",
            "      Successfully uninstalled moviepy-0.2.3.5\n",
            "Successfully installed imageio-ffmpeg-0.4.7 moviepy-1.0.3 proglog-0.1.10\n"
          ]
        }
      ]
    },
    {
      "cell_type": "code",
      "source": [
        "! git clone https://github.com/kenshohara/video-classification-3d-cnn-pytorch.git"
      ],
      "metadata": {
        "colab": {
          "base_uri": "https://localhost:8080/"
        },
        "id": "jjQk5H5iwEu3",
        "outputId": "83dcfa02-95a1-487e-ef1b-c423194cfb7f"
      },
      "execution_count": 10,
      "outputs": [
        {
          "output_type": "stream",
          "name": "stdout",
          "text": [
            "Cloning into 'video-classification-3d-cnn-pytorch'...\n",
            "remote: Enumerating objects: 121, done.\u001b[K\n",
            "remote: Total 121 (delta 0), reused 0 (delta 0), pack-reused 121\u001b[K\n",
            "Receiving objects: 100% (121/121), 158.63 KiB | 3.87 MiB/s, done.\n",
            "Resolving deltas: 100% (63/63), done.\n"
          ]
        }
      ]
    },
    {
      "cell_type": "code",
      "source": [
        "%cd video-classification-3d-cnn-pytorch/"
      ],
      "metadata": {
        "colab": {
          "base_uri": "https://localhost:8080/"
        },
        "id": "3SP68QtTv96X",
        "outputId": "0178b5f3-f2aa-4a79-a92f-3e022a95b3b8"
      },
      "execution_count": 11,
      "outputs": [
        {
          "output_type": "stream",
          "name": "stdout",
          "text": [
            "/content/video-classification-3d-cnn-pytorch\n"
          ]
        }
      ]
    },
    {
      "cell_type": "code",
      "source": [
        "import json\n",
        "import os\n",
        "from moviepy.editor import *\n",
        "from moviepy import *\n",
        "import shutil\n",
        "import numpy as np"
      ],
      "metadata": {
        "id": "L2RZR-wV4uj7"
      },
      "execution_count": 12,
      "outputs": []
    },
    {
      "cell_type": "code",
      "source": [
        "# this function loads all films in the folder given as argument into the 'input' file (make sure you are in the right\n",
        "# directory)\n",
        "\n",
        "def loadVideosToInfile(folder):\n",
        "    videos = os.listdir(folder)\n",
        "    with open('input', 'w') as inputfile:\n",
        "      for v in videos:\n",
        "        if v.split('.')[-1] == 'mp4':\n",
        "          inputfile.write(v+'\\n')"
      ],
      "metadata": {
        "id": "o4WheBiQ4umj"
      },
      "execution_count": 13,
      "outputs": []
    },
    {
      "cell_type": "code",
      "source": [
        "# This function should read all .json files in the output folder, and combine them into one large dictionary\n",
        "def readAllOutput(outputFolder):\n",
        "    # create an empty dictionary called 'dictionaries' to which you add the dictionary entries read \n",
        "    # from the output files\n",
        "    dictionaries = {}\n",
        "    # Read all output file names to a variable output_files (a list that contains all file names)\n",
        "    output_files = os.listdir(outputFolder)\n",
        "    \n",
        "    # Start of the for loop to loop through all files, read them, and add their contents to 'dictionaries'\n",
        "    for f in output_files:\n",
        "        # first test if the file extension is a '.json file'\n",
        "        if f.split('.')[-1] == 'json': \n",
        "            # if it is a json file, we open the file\n",
        "            file = open(outputFolder + \"/\" + f)\n",
        "            print(outputFolder+ \"/\" + f)\n",
        "            # Then load the file content to a variable called 'segments' with the json library\n",
        "            segments = json.load(file)\n",
        "            # another for loop, to add the content of segments to dictionaries. As a key use the moviename.\n",
        "            for s in segments:\n",
        "                dictionaries[s['video']] = s\n",
        "\n",
        "\n",
        "    \n",
        "    return dictionaries\n",
        "\n",
        "# test\n",
        "dicts = readAllOutput('/content/drive/MyDrive/SkillWorkshop/VideoOutFeature')\n",
        "dicts.keys()"
      ],
      "metadata": {
        "id": "4mQM9btq4upA",
        "colab": {
          "base_uri": "https://localhost:8080/"
        },
        "outputId": "ae693c49-a183-402c-9ab9-23a1c79df3a6"
      },
      "execution_count": 17,
      "outputs": [
        {
          "output_type": "stream",
          "name": "stdout",
          "text": [
            "/content/drive/MyDrive/SkillWorkshop/VideoOutFeature/output.json\n"
          ]
        },
        {
          "output_type": "execute_result",
          "data": {
            "text/plain": [
              "dict_keys(['SorryToBoderYou.mp4', 'TheBattleOfAlgiers.mp4', 'frame-030479.mp4', 'frame-028326.mp4', 'TheSixthSense.mp4'])"
            ]
          },
          "metadata": {},
          "execution_count": 17
        }
      ]
    },
    {
      "cell_type": "code",
      "source": [
        "# here keyFilmName is the name of the film that you want to find a match for, and the feature dictionary is \n",
        "# the dictionary that is given as output by the readAllOutput function\n",
        "\n",
        "def searchForMatch(keyFilmName, featureDictionary):\n",
        "    # create variables to keep track of the best clips\n",
        "    bestRangeStart = 0\n",
        "    bestRangeFilmName = ''\n",
        "    bestRangeScore = 1000000000\n",
        "    \n",
        "    # first read the features of the keyFilm into keyFeatures\n",
        "    keyClips = featureDictionary[keyFilmName]['clips']\n",
        "    keyFeatures = []\n",
        "    for c in keyClips:\n",
        "        keyFeatures.append(np.array(c['features']))\n",
        "    \n",
        "    # now enter a for loop to go through all films, and see what the best matching sequence is \n",
        "    # (we make sure not to check the keyFilm itself by checking it's not that filename)\n",
        "    for film in featureDictionary.keys():\n",
        "        if not film == keyFilmName:\n",
        "          filmClips = featureDictionary[film]['clips']\n",
        "          filmFeatures = []\n",
        "          for c in filmClips:\n",
        "            filmFeatures.append(np.array(c['features']))\n",
        "          for i in range(len(filmFeatures)-len(keyFeatures)):\n",
        "            distance = 0\n",
        "            for j in range(len(keyFeatures)):\n",
        "              d = np.linalg.norm(filmFeatures[i+j]-keyFeatures[j])\n",
        "              distance += d\n",
        "              print(distance)\n",
        "              if distance < bestRangeScore:\n",
        "                bestRangeScore = distance\n",
        "                bestRangeStart = i\n",
        "                bestRangeFilmName = film\n",
        "              \n",
        "          \n",
        "            \n",
        "            # so now here 'film' is a filename (which is the key in the feature dictionary of that film)\n",
        "            # first load the features in a 'filmFeatures' list like we did for key Features\n",
        "            # then look at the provided code from the lecture to see how to iterate through the other\n",
        "            # list of features to find the best segment. Now just make sure to also register what film\n",
        "            # name the best matching segment is from. \n",
        "            \n",
        "    # create a list containing the filename, start and nr of clips\n",
        "    matchingFragment = [bestRangeFilmName, bestRangeStart, len(keyFeatures)]\n",
        "    \n",
        "    return matchingFragment\n",
        "\n",
        "    # First implement it for the best matching one, then expand it to return the n best matching ones as a list,\n",
        "    # with n as an argument in the function"
      ],
      "metadata": {
        "id": "ts84leQP4urG"
      },
      "execution_count": 40,
      "outputs": []
    },
    {
      "cell_type": "code",
      "source": [
        "# this is a helper function to which you give the fragment (the output of the searchForMatch function), and it returns\n",
        "# a moviepy film object (which you can then save)\n",
        "\n",
        "def extractFragment(fragment, filmFolder):\n",
        "    # here adapt the code from the lecture, but make it so that it works for any input fragment list\n",
        "    # the output of the function above: [bestRangeFilmName, bestRangeStart, len(keyFeatures)]\n",
        "\n",
        "    filmFileName = fragment[0]\n",
        "    start = fragment[1]\n",
        "    nrClips = fragment[2]\n",
        "    \n",
        "    filmVideo = VideoFileClip(filmFolder + \"/\" + filmFileName)\n",
        "    filmfps = filmVideo.fps\n",
        "    filmFrameLength = 1/filmfps\n",
        "\n",
        "    nrFrames = nrClips * 16\n",
        "    startFrame = start * 16\n",
        "\n",
        "    startTime = startFrame * filmFrameLength\n",
        "    endTime = startTime + nrFrames * filmFrameLength\n",
        "\n",
        "    filmMatchedVideo = filmVideo.subclip(startTime,endTime)\n",
        "    \n",
        "    return filmMatchedVideo\n",
        "\n",
        "    # This function should read all .json files in the output folder, and combine them into one large dictionary\n"
      ],
      "metadata": {
        "id": "Ny2uyWbN4utz"
      },
      "execution_count": 41,
      "outputs": []
    },
    {
      "cell_type": "code",
      "source": [
        "# call function to load the filenames to 'input'\n",
        "loadVideosToInfile('/content/drive/MyDrive/SkillWorkshop/VideoProcessFeature')"
      ],
      "metadata": {
        "id": "xemmFqs-4uwf"
      },
      "execution_count": 51,
      "outputs": []
    },
    {
      "cell_type": "code",
      "source": [
        "# run the model to process all films currently in the input_films folder, and save it to a json file, here named by the date\n",
        "\n",
        "!python main.py --input input --video_root /content/drive/MyDrive/SkillWorkshop/VideoProcessFeature --output /content/drive/MyDrive/SkillWorkshop/VideoOutFeature/output221203.json --model /content/drive/MyDrive/SkillWorkshop/resnet-34-kinetics-cpu.pth --mode feature --no_cuda\n"
      ],
      "metadata": {
        "id": "tg9F3yYH5kgz",
        "colab": {
          "base_uri": "https://localhost:8080/"
        },
        "outputId": "ac12b76a-e2cd-4938-9c66-6e4cabcfcd0c"
      },
      "execution_count": null,
      "outputs": [
        {
          "output_type": "stream",
          "name": "stdout",
          "text": [
            "loading model /content/drive/MyDrive/SkillWorkshop/resnet-34-kinetics-cpu.pth\n",
            "/content/drive/MyDrive/SkillWorkshop/VideoProcessFeature/SorryToBoderYou.mp4\n",
            "ffmpeg version 3.4.11-0ubuntu0.1 Copyright (c) 2000-2022 the FFmpeg developers\n",
            "  built with gcc 7 (Ubuntu 7.5.0-3ubuntu1~18.04)\n",
            "  configuration: --prefix=/usr --extra-version=0ubuntu0.1 --toolchain=hardened --libdir=/usr/lib/x86_64-linux-gnu --incdir=/usr/include/x86_64-linux-gnu --enable-gpl --disable-stripping --enable-avresample --enable-avisynth --enable-gnutls --enable-ladspa --enable-libass --enable-libbluray --enable-libbs2b --enable-libcaca --enable-libcdio --enable-libflite --enable-libfontconfig --enable-libfreetype --enable-libfribidi --enable-libgme --enable-libgsm --enable-libmp3lame --enable-libmysofa --enable-libopenjpeg --enable-libopenmpt --enable-libopus --enable-libpulse --enable-librubberband --enable-librsvg --enable-libshine --enable-libsnappy --enable-libsoxr --enable-libspeex --enable-libssh --enable-libtheora --enable-libtwolame --enable-libvorbis --enable-libvpx --enable-libwavpack --enable-libwebp --enable-libx265 --enable-libxml2 --enable-libxvid --enable-libzmq --enable-libzvbi --enable-omx --enable-openal --enable-opengl --enable-sdl2 --enable-libdc1394 --enable-libdrm --enable-libiec61883 --enable-chromaprint --enable-frei0r --enable-libopencv --enable-libx264 --enable-shared\n",
            "  libavutil      55. 78.100 / 55. 78.100\n",
            "  libavcodec     57.107.100 / 57.107.100\n",
            "  libavformat    57. 83.100 / 57. 83.100\n",
            "  libavdevice    57. 10.100 / 57. 10.100\n",
            "  libavfilter     6.107.100 /  6.107.100\n",
            "  libavresample   3.  7.  0 /  3.  7.  0\n",
            "  libswscale      4.  8.100 /  4.  8.100\n",
            "  libswresample   2.  9.100 /  2.  9.100\n",
            "  libpostproc    54.  7.100 / 54.  7.100\n",
            "Input #0, mov,mp4,m4a,3gp,3g2,mj2, from '/content/drive/MyDrive/SkillWorkshop/VideoProcessFeature/SorryToBoderYou.mp4':\n",
            "  Metadata:\n",
            "    major_brand     : isom\n",
            "    minor_version   : 512\n",
            "    compatible_brands: isomiso2avc1mp41\n",
            "    encoder         : Lavf58.29.100\n",
            "  Duration: 00:00:02.02, start: 0.000000, bitrate: 1459 kb/s\n",
            "    Stream #0:0(und): Video: h264 (High) (avc1 / 0x31637661), yuv420p, 720x304, 1336 kb/s, 23.98 fps, 23.98 tbr, 19184 tbn, 47.96 tbc (default)\n",
            "    Metadata:\n",
            "      handler_name    : VideoHandler\n",
            "    Stream #0:1(und): Audio: aac (LC) (mp4a / 0x6134706D), 44100 Hz, stereo, fltp, 126 kb/s (default)\n",
            "    Metadata:\n",
            "      handler_name    : SoundHandler\n",
            "Stream mapping:\n",
            "  Stream #0:0 -> #0:0 (h264 (native) -> mjpeg (native))\n",
            "Press [q] to stop, [?] for help\n",
            "\u001b[1;34m[swscaler @ 0x558d3980a000] \u001b[0m\u001b[0;33mdeprecated pixel format used, make sure you did set range correctly\n",
            "\u001b[0mOutput #0, image2, to 'tmp/image_%05d.jpg':\n",
            "  Metadata:\n",
            "    major_brand     : isom\n",
            "    minor_version   : 512\n",
            "    compatible_brands: isomiso2avc1mp41\n",
            "    encoder         : Lavf57.83.100\n",
            "    Stream #0:0(und): Video: mjpeg, yuvj420p(pc), 720x304, q=2-31, 200 kb/s, 23.98 fps, 23.98 tbn, 23.98 tbc (default)\n",
            "    Metadata:\n",
            "      handler_name    : VideoHandler\n",
            "      encoder         : Lavc57.107.100 mjpeg\n",
            "    Side data:\n",
            "      cpb: bitrate max/min/avg: 0/0/200000 buffer size: 0 vbv_delay: -1\n",
            "frame=   48 fps=0.0 q=24.8 Lsize=N/A time=00:00:02.00 bitrate=N/A speed=9.62x    \n",
            "video:870kB audio:0kB subtitle:0kB other streams:0kB global headers:0kB muxing overhead: unknown\n",
            "/usr/local/lib/python3.8/dist-packages/torch/utils/data/dataloader.py:563: UserWarning: This DataLoader will create 4 worker processes in total. Our suggested max number of worker in current system is 2, which is smaller than what this DataLoader is going to create. Please be aware that excessive worker creation might get DataLoader running slow or even freeze, lower the worker number to avoid potential slowness/freeze if necessary.\n",
            "  warnings.warn(_create_warning_msg(\n",
            "/content/video-classification-3d-cnn-pytorch/classify.py:25: UserWarning: volatile was removed and now has no effect. Use `with torch.no_grad():` instead.\n",
            "  inputs = Variable(inputs, volatile=True)\n",
            "/content/drive/MyDrive/SkillWorkshop/VideoProcessFeature/Althamer-Pawel_Do-It-Yourself_2004.mp4\n",
            "ffmpeg version 3.4.11-0ubuntu0.1 Copyright (c) 2000-2022 the FFmpeg developers\n",
            "  built with gcc 7 (Ubuntu 7.5.0-3ubuntu1~18.04)\n",
            "  configuration: --prefix=/usr --extra-version=0ubuntu0.1 --toolchain=hardened --libdir=/usr/lib/x86_64-linux-gnu --incdir=/usr/include/x86_64-linux-gnu --enable-gpl --disable-stripping --enable-avresample --enable-avisynth --enable-gnutls --enable-ladspa --enable-libass --enable-libbluray --enable-libbs2b --enable-libcaca --enable-libcdio --enable-libflite --enable-libfontconfig --enable-libfreetype --enable-libfribidi --enable-libgme --enable-libgsm --enable-libmp3lame --enable-libmysofa --enable-libopenjpeg --enable-libopenmpt --enable-libopus --enable-libpulse --enable-librubberband --enable-librsvg --enable-libshine --enable-libsnappy --enable-libsoxr --enable-libspeex --enable-libssh --enable-libtheora --enable-libtwolame --enable-libvorbis --enable-libvpx --enable-libwavpack --enable-libwebp --enable-libx265 --enable-libxml2 --enable-libxvid --enable-libzmq --enable-libzvbi --enable-omx --enable-openal --enable-opengl --enable-sdl2 --enable-libdc1394 --enable-libdrm --enable-libiec61883 --enable-chromaprint --enable-frei0r --enable-libopencv --enable-libx264 --enable-shared\n",
            "  libavutil      55. 78.100 / 55. 78.100\n",
            "  libavcodec     57.107.100 / 57.107.100\n",
            "  libavformat    57. 83.100 / 57. 83.100\n",
            "  libavdevice    57. 10.100 / 57. 10.100\n",
            "  libavfilter     6.107.100 /  6.107.100\n",
            "  libavresample   3.  7.  0 /  3.  7.  0\n",
            "  libswscale      4.  8.100 /  4.  8.100\n",
            "  libswresample   2.  9.100 /  2.  9.100\n",
            "  libpostproc    54.  7.100 / 54.  7.100\n",
            "Input #0, mov,mp4,m4a,3gp,3g2,mj2, from '/content/drive/MyDrive/SkillWorkshop/VideoProcessFeature/Althamer-Pawel_Do-It-Yourself_2004.mp4':\n",
            "  Metadata:\n",
            "    major_brand     : mp42\n",
            "    minor_version   : 0\n",
            "    compatible_brands: mp42mp41\n",
            "    creation_time   : 2013-02-13T16:16:41.000000Z\n",
            "  Duration: 00:09:21.64, start: 0.000000, bitrate: 2088 kb/s\n",
            "    Stream #0:0(eng): Video: h264 (Main) (avc1 / 0x31637661), yuv420p(tv), 640x480 [SAR 1:1 DAR 4:3], 1991 kb/s, 30 fps, 30 tbr, 30k tbn, 60 tbc (default)\n",
            "    Metadata:\n",
            "      creation_time   : 2013-02-13T16:16:41.000000Z\n",
            "      handler_name    : Mainconcept MP4 Video Media Handler\n",
            "      encoder         : AVC Coding\n",
            "    Stream #0:1(eng): Audio: aac (LC) (mp4a / 0x6134706D), 48000 Hz, stereo, fltp, 93 kb/s (default)\n",
            "    Metadata:\n",
            "      creation_time   : 2013-02-13T16:16:41.000000Z\n",
            "      handler_name    : Mainconcept MP4 Sound Media Handler\n",
            "Stream mapping:\n",
            "  Stream #0:0 -> #0:0 (h264 (native) -> mjpeg (native))\n",
            "Press [q] to stop, [?] for help\n",
            "\u001b[1;34m[swscaler @ 0x561a2d7c4000] \u001b[0m\u001b[0;33mdeprecated pixel format used, make sure you did set range correctly\n",
            "\u001b[0mOutput #0, image2, to 'tmp/image_%05d.jpg':\n",
            "  Metadata:\n",
            "    major_brand     : mp42\n",
            "    minor_version   : 0\n",
            "    compatible_brands: mp42mp41\n",
            "    encoder         : Lavf57.83.100\n",
            "    Stream #0:0(eng): Video: mjpeg, yuvj420p(pc), 640x480 [SAR 1:1 DAR 4:3], q=2-31, 200 kb/s, 30 fps, 30 tbn, 30 tbc (default)\n",
            "    Metadata:\n",
            "      creation_time   : 2013-02-13T16:16:41.000000Z\n",
            "      handler_name    : Mainconcept MP4 Video Media Handler\n",
            "      encoder         : Lavc57.107.100 mjpeg\n",
            "    Side data:\n",
            "      cpb: bitrate max/min/avg: 0/0/200000 buffer size: 0 vbv_delay: -1\n",
            "frame=16847 fps=235 q=24.8 Lsize=N/A time=00:09:21.56 bitrate=N/A speed=7.85x    \n",
            "video:170468kB audio:0kB subtitle:0kB other streams:0kB global headers:0kB muxing overhead: unknown\n",
            "/content/drive/MyDrive/SkillWorkshop/VideoProcessFeature/Zahradnicek-Cenek_Ruce-v-utery_1935.mp4\n",
            "ffmpeg version 3.4.11-0ubuntu0.1 Copyright (c) 2000-2022 the FFmpeg developers\n",
            "  built with gcc 7 (Ubuntu 7.5.0-3ubuntu1~18.04)\n",
            "  configuration: --prefix=/usr --extra-version=0ubuntu0.1 --toolchain=hardened --libdir=/usr/lib/x86_64-linux-gnu --incdir=/usr/include/x86_64-linux-gnu --enable-gpl --disable-stripping --enable-avresample --enable-avisynth --enable-gnutls --enable-ladspa --enable-libass --enable-libbluray --enable-libbs2b --enable-libcaca --enable-libcdio --enable-libflite --enable-libfontconfig --enable-libfreetype --enable-libfribidi --enable-libgme --enable-libgsm --enable-libmp3lame --enable-libmysofa --enable-libopenjpeg --enable-libopenmpt --enable-libopus --enable-libpulse --enable-librubberband --enable-librsvg --enable-libshine --enable-libsnappy --enable-libsoxr --enable-libspeex --enable-libssh --enable-libtheora --enable-libtwolame --enable-libvorbis --enable-libvpx --enable-libwavpack --enable-libwebp --enable-libx265 --enable-libxml2 --enable-libxvid --enable-libzmq --enable-libzvbi --enable-omx --enable-openal --enable-opengl --enable-sdl2 --enable-libdc1394 --enable-libdrm --enable-libiec61883 --enable-chromaprint --enable-frei0r --enable-libopencv --enable-libx264 --enable-shared\n",
            "  libavutil      55. 78.100 / 55. 78.100\n",
            "  libavcodec     57.107.100 / 57.107.100\n",
            "  libavformat    57. 83.100 / 57. 83.100\n",
            "  libavdevice    57. 10.100 / 57. 10.100\n",
            "  libavfilter     6.107.100 /  6.107.100\n",
            "  libavresample   3.  7.  0 /  3.  7.  0\n",
            "  libswscale      4.  8.100 /  4.  8.100\n",
            "  libswresample   2.  9.100 /  2.  9.100\n",
            "  libpostproc    54.  7.100 / 54.  7.100\n",
            "Input #0, mov,mp4,m4a,3gp,3g2,mj2, from '/content/drive/MyDrive/SkillWorkshop/VideoProcessFeature/Zahradnicek-Cenek_Ruce-v-utery_1935.mp4':\n",
            "  Metadata:\n",
            "    major_brand     : mp42\n",
            "    minor_version   : 0\n",
            "    compatible_brands: mp42mp41\n",
            "    creation_time   : 2014-01-28T11:42:31.000000Z\n",
            "  Duration: 00:10:34.92, start: 0.000000, bitrate: 1924 kb/s\n",
            "    Stream #0:0(eng): Video: h264 (Main) (avc1 / 0x31637661), yuv420p(tv), 592x448 [SAR 1:1 DAR 37:28], 1795 kb/s, 25 fps, 25 tbr, 25k tbn, 50 tbc (default)\n",
            "    Metadata:\n",
            "      creation_time   : 2014-01-28T11:42:31.000000Z\n",
            "      handler_name    : Mainconcept MP4 Video Media Handler\n",
            "      encoder         : AVC Coding\n",
            "    Stream #0:1(eng): Audio: aac (LC) (mp4a / 0x6134706D), 48000 Hz, stereo, fltp, 125 kb/s (default)\n",
            "    Metadata:\n",
            "      creation_time   : 2014-01-28T11:42:31.000000Z\n",
            "      handler_name    : Mainconcept MP4 Sound Media Handler\n",
            "Stream mapping:\n",
            "  Stream #0:0 -> #0:0 (h264 (native) -> mjpeg (native))\n",
            "Press [q] to stop, [?] for help\n",
            "\u001b[1;34m[swscaler @ 0x55d9e7d86000] \u001b[0m\u001b[0;33mdeprecated pixel format used, make sure you did set range correctly\n",
            "\u001b[0mOutput #0, image2, to 'tmp/image_%05d.jpg':\n",
            "  Metadata:\n",
            "    major_brand     : mp42\n",
            "    minor_version   : 0\n",
            "    compatible_brands: mp42mp41\n",
            "    encoder         : Lavf57.83.100\n",
            "    Stream #0:0(eng): Video: mjpeg, yuvj420p(pc), 592x448 [SAR 1:1 DAR 37:28], q=2-31, 200 kb/s, 25 fps, 25 tbn, 25 tbc (default)\n",
            "    Metadata:\n",
            "      creation_time   : 2014-01-28T11:42:31.000000Z\n",
            "      handler_name    : Mainconcept MP4 Video Media Handler\n",
            "      encoder         : Lavc57.107.100 mjpeg\n",
            "    Side data:\n",
            "      cpb: bitrate max/min/avg: 0/0/200000 buffer size: 0 vbv_delay: -1\n",
            "frame=15871 fps=266 q=24.8 Lsize=N/A time=00:10:34.84 bitrate=N/A speed=10.6x    \n",
            "video:87506kB audio:0kB subtitle:0kB other streams:0kB global headers:0kB muxing overhead: unknown\n",
            "/content/drive/MyDrive/SkillWorkshop/VideoProcessFeature/Zedd-Nick_geek-maggot-bingo_1983.mp4\n",
            "ffmpeg version 3.4.11-0ubuntu0.1 Copyright (c) 2000-2022 the FFmpeg developers\n",
            "  built with gcc 7 (Ubuntu 7.5.0-3ubuntu1~18.04)\n",
            "  configuration: --prefix=/usr --extra-version=0ubuntu0.1 --toolchain=hardened --libdir=/usr/lib/x86_64-linux-gnu --incdir=/usr/include/x86_64-linux-gnu --enable-gpl --disable-stripping --enable-avresample --enable-avisynth --enable-gnutls --enable-ladspa --enable-libass --enable-libbluray --enable-libbs2b --enable-libcaca --enable-libcdio --enable-libflite --enable-libfontconfig --enable-libfreetype --enable-libfribidi --enable-libgme --enable-libgsm --enable-libmp3lame --enable-libmysofa --enable-libopenjpeg --enable-libopenmpt --enable-libopus --enable-libpulse --enable-librubberband --enable-librsvg --enable-libshine --enable-libsnappy --enable-libsoxr --enable-libspeex --enable-libssh --enable-libtheora --enable-libtwolame --enable-libvorbis --enable-libvpx --enable-libwavpack --enable-libwebp --enable-libx265 --enable-libxml2 --enable-libxvid --enable-libzmq --enable-libzvbi --enable-omx --enable-openal --enable-opengl --enable-sdl2 --enable-libdc1394 --enable-libdrm --enable-libiec61883 --enable-chromaprint --enable-frei0r --enable-libopencv --enable-libx264 --enable-shared\n",
            "  libavutil      55. 78.100 / 55. 78.100\n",
            "  libavcodec     57.107.100 / 57.107.100\n",
            "  libavformat    57. 83.100 / 57. 83.100\n",
            "  libavdevice    57. 10.100 / 57. 10.100\n",
            "  libavfilter     6.107.100 /  6.107.100\n",
            "  libavresample   3.  7.  0 /  3.  7.  0\n",
            "  libswscale      4.  8.100 /  4.  8.100\n",
            "  libswresample   2.  9.100 /  2.  9.100\n",
            "  libpostproc    54.  7.100 / 54.  7.100\n",
            "Input #0, mov,mp4,m4a,3gp,3g2,mj2, from '/content/drive/MyDrive/SkillWorkshop/VideoProcessFeature/Zedd-Nick_geek-maggot-bingo_1983.mp4':\n",
            "  Metadata:\n",
            "    major_brand     : isom\n",
            "    minor_version   : 512\n",
            "    compatible_brands: isomiso2avc1mp41\n",
            "    encoder         : Lavf58.12.100\n",
            "  Duration: 01:13:40.29, start: 0.000000, bitrate: 653 kb/s\n",
            "    Stream #0:0(und): Video: h264 (Main) (avc1 / 0x31637661), yuv420p, 512x368 [SAR 1:1 DAR 32:23], 518 kb/s, 29.97 fps, 29.97 tbr, 11988 tbn, 59.94 tbc (default)\n",
            "    Metadata:\n",
            "      handler_name    : VideoHandler\n",
            "    Stream #0:1(und): Audio: aac (LC) (mp4a / 0x6134706D), 48000 Hz, stereo, fltp, 128 kb/s (default)\n",
            "    Metadata:\n",
            "      handler_name    : SoundHandler\n",
            "Stream mapping:\n",
            "  Stream #0:0 -> #0:0 (h264 (native) -> mjpeg (native))\n",
            "Press [q] to stop, [?] for help\n",
            "\u001b[1;34m[swscaler @ 0x55f1a7c9e000] \u001b[0m\u001b[0;33mdeprecated pixel format used, make sure you did set range correctly\n",
            "\u001b[0mOutput #0, image2, to 'tmp/image_%05d.jpg':\n",
            "  Metadata:\n",
            "    major_brand     : isom\n",
            "    minor_version   : 512\n",
            "    compatible_brands: isomiso2avc1mp41\n",
            "    encoder         : Lavf57.83.100\n",
            "    Stream #0:0(und): Video: mjpeg, yuvj420p(pc), 512x368 [SAR 1:1 DAR 32:23], q=2-31, 200 kb/s, 29.97 fps, 29.97 tbn, 29.97 tbc (default)\n",
            "    Metadata:\n",
            "      handler_name    : VideoHandler\n",
            "      encoder         : Lavc57.107.100 mjpeg\n",
            "    Side data:\n",
            "      cpb: bitrate max/min/avg: 0/0/200000 buffer size: 0 vbv_delay: -1\n",
            "frame=132476 fps=396 q=24.8 Lsize=N/A time=01:13:40.28 bitrate=N/A dup=1 drop=0 speed=13.2x    \n",
            "video:658713kB audio:0kB subtitle:0kB other streams:0kB global headers:0kB muxing overhead: unknown\n"
          ]
        }
      ]
    },
    {
      "cell_type": "code",
      "source": [
        "# a small piece of code that moves all processed input films to the processed films folder\n",
        "\n",
        "input_films_processed = os.listdir('/content/drive/MyDrive/SkillWorkshop/VideoProcessFeature')\n",
        "for file in input_films_processed:\n",
        "    try:\n",
        "        shutil.move(os.path.join('/content/drive/MyDrive/SkillWorkshop/VideoProcessedFilms',file),'/content/drive/MyDrive/SkillWorkshop/VideoProcessedFilms')\n",
        "    except:\n",
        "        print(file + ' not moved')"
      ],
      "metadata": {
        "id": "9karR0_G5km5"
      },
      "execution_count": null,
      "outputs": []
    },
    {
      "cell_type": "code",
      "source": [
        "# read all output with the function declared above\n",
        "\n",
        "dicts = readAllOutput('/content/drive/MyDrive/SkillWorkshop/VideoOutFeature')"
      ],
      "metadata": {
        "id": "pO6YS0d35lEy"
      },
      "execution_count": null,
      "outputs": []
    },
    {
      "cell_type": "code",
      "source": [
        "# look for the best matching sequence to the input file (needs to be in dicts for it to work)\n",
        "\n",
        "fragment = searchForMatch('SorryToBoderYou.mp4', dicts)"
      ],
      "metadata": {
        "id": "uFOam7gg5lHa"
      },
      "execution_count": null,
      "outputs": []
    },
    {
      "cell_type": "code",
      "source": [
        "# extract the fragment from the film\n",
        "\n",
        "fragmentFilm = extractFragment(fragment, '/content/drive/MyDrive/SkillWorkshop/VideoProcessFeature')\n"
      ],
      "metadata": {
        "id": "z7B6N7Rm5lKE"
      },
      "execution_count": null,
      "outputs": []
    },
    {
      "cell_type": "code",
      "source": [
        "# display the film fragment\n",
        "\n",
        "fragmentFilm.ipython_display()"
      ],
      "metadata": {
        "id": "hGMMboRy5lQu"
      },
      "execution_count": null,
      "outputs": []
    },
    {
      "cell_type": "code",
      "source": [
        "# save the film fragment\n",
        "\n",
        "fragmentFilm.write_videofile(\"../output_films/fragment.mp4\", audio_codec='aac')"
      ],
      "metadata": {
        "id": "_rTrQpVE5lTY"
      },
      "execution_count": null,
      "outputs": []
    }
  ]
}